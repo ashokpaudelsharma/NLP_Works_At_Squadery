{
 "cells": [
  {
   "cell_type": "markdown",
   "id": "2e813538",
   "metadata": {},
   "source": [
    "Develop a python script to demonstrate adding data, removing data, and changing data in JSON files."
   ]
  },
  {
   "cell_type": "code",
   "execution_count": 1,
   "id": "468e3fc9",
   "metadata": {},
   "outputs": [],
   "source": [
    "import json"
   ]
  },
  {
   "cell_type": "code",
   "execution_count": 2,
   "id": "9e7b5764",
   "metadata": {},
   "outputs": [],
   "source": [
    "file_name='example_json_file.json'"
   ]
  },
  {
   "cell_type": "code",
   "execution_count": 3,
   "id": "8e503eb7",
   "metadata": {},
   "outputs": [],
   "source": [
    "entry={\n",
    "    \"fourth\": {\n",
    "      'name': 'Binaya',\n",
    "      'age': 40,\n",
    "      'hobby': 'making jokes'\n",
    "    }\n",
    "  }"
   ]
  },
  {
   "cell_type": "code",
   "execution_count": 4,
   "id": "4170c84b",
   "metadata": {},
   "outputs": [],
   "source": [
    "#Read the file contents\n",
    "with open(file_name,'r') as file:\n",
    "    data=json.load(file)"
   ]
  },
  {
   "cell_type": "code",
   "execution_count": 5,
   "id": "1f6ebf91",
   "metadata": {},
   "outputs": [
    {
     "name": "stdout",
     "output_type": "stream",
     "text": [
      "[{'first': {'name': 'Saujanya', 'age': 22, 'hobby': 'playing cricket'}}, {'second': {'name': 'Manoj', 'age': 26, 'hobby': 'philosophy'}}, {'third': {'name': 'Ashok', 'age': 30, 'hobby': 'singing'}}]\n"
     ]
    }
   ],
   "source": [
    "print(data)"
   ]
  },
  {
   "cell_type": "code",
   "execution_count": 6,
   "id": "6b7790cc",
   "metadata": {},
   "outputs": [],
   "source": [
    "#Update Json Object\n",
    "data.append(entry)"
   ]
  },
  {
   "cell_type": "code",
   "execution_count": 7,
   "id": "43b59c73",
   "metadata": {},
   "outputs": [
    {
     "name": "stdout",
     "output_type": "stream",
     "text": [
      "[{'first': {'name': 'Saujanya', 'age': 22, 'hobby': 'playing cricket'}}, {'second': {'name': 'Manoj', 'age': 26, 'hobby': 'philosophy'}}, {'third': {'name': 'Ashok', 'age': 30, 'hobby': 'singing'}}, {'fourth': {'name': 'Binaya', 'age': 40, 'hobby': 'making jokes'}}]\n"
     ]
    }
   ],
   "source": [
    "#Json file after adding data\n",
    "print(data)"
   ]
  },
  {
   "cell_type": "markdown",
   "id": "7615b154",
   "metadata": {},
   "source": [
    "Deleting a specific element:\n",
    "Say, we want to delete the second element from the json file, we code as follows in that case"
   ]
  },
  {
   "cell_type": "code",
   "execution_count": 8,
   "id": "a6629ec5",
   "metadata": {},
   "outputs": [],
   "source": [
    "for element in data:\n",
    "    #print(element)\n",
    "    if 'second' in element:\n",
    "        del element['second']"
   ]
  },
  {
   "cell_type": "code",
   "execution_count": 9,
   "id": "9ee8ba8a",
   "metadata": {},
   "outputs": [
    {
     "name": "stdout",
     "output_type": "stream",
     "text": [
      "[{'first': {'name': 'Saujanya', 'age': 22, 'hobby': 'playing cricket'}}, {}, {'third': {'name': 'Ashok', 'age': 30, 'hobby': 'singing'}}, {'fourth': {'name': 'Binaya', 'age': 40, 'hobby': 'making jokes'}}]\n"
     ]
    }
   ],
   "source": [
    "#Retrieving data after deletion\n",
    "print(data)"
   ]
  },
  {
   "cell_type": "markdown",
   "id": "7d87f32e",
   "metadata": {},
   "source": [
    "Changing a specific element: To change the value of a specific element, it should also be mentioned what we want to change the element into after transformation."
   ]
  },
  {
   "cell_type": "code",
   "execution_count": 10,
   "id": "1df26554",
   "metadata": {},
   "outputs": [],
   "source": [
    "for element in data:\n",
    "    #print(element)\n",
    "    if 'fourth' in element:\n",
    "        element['fourth']={'name': 'Binay', 'age': 42, 'hobby': 'bringing serious ideas'}"
   ]
  },
  {
   "cell_type": "code",
   "execution_count": 11,
   "id": "3a9648ab",
   "metadata": {},
   "outputs": [
    {
     "name": "stdout",
     "output_type": "stream",
     "text": [
      "[{'first': {'name': 'Saujanya', 'age': 22, 'hobby': 'playing cricket'}}, {}, {'third': {'name': 'Ashok', 'age': 30, 'hobby': 'singing'}}, {'fourth': {'name': 'Binay', 'age': 42, 'hobby': 'bringing serious ideas'}}]\n"
     ]
    }
   ],
   "source": [
    "print(data)"
   ]
  },
  {
   "cell_type": "code",
   "execution_count": null,
   "id": "682db28a",
   "metadata": {},
   "outputs": [],
   "source": []
  }
 ],
 "metadata": {
  "kernelspec": {
   "display_name": "Python 3 (ipykernel)",
   "language": "python",
   "name": "python3"
  },
  "language_info": {
   "codemirror_mode": {
    "name": "ipython",
    "version": 3
   },
   "file_extension": ".py",
   "mimetype": "text/x-python",
   "name": "python",
   "nbconvert_exporter": "python",
   "pygments_lexer": "ipython3",
   "version": "3.9.12"
  }
 },
 "nbformat": 4,
 "nbformat_minor": 5
}
