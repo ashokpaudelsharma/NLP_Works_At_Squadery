{
 "cells": [
  {
   "cell_type": "markdown",
   "id": "b2d16c0d",
   "metadata": {},
   "source": [
    "Develop a jupyter notebook demonstrating several text cleaning methods in nepali text."
   ]
  },
  {
   "cell_type": "markdown",
   "id": "056b5525",
   "metadata": {},
   "source": [
    "inltk: Indic nltk library, i.e, nltk supporting indic (Nepali, Indian, Punjabi, etc. ) languages."
   ]
  },
  {
   "cell_type": "code",
   "execution_count": 4,
   "id": "ba01da51",
   "metadata": {},
   "outputs": [],
   "source": [
    "#IMPORTING LIBRARIES FOR GENERAL NLP\n",
    "\n",
    "import numpy as np\n",
    "import pandas as pd\n",
    "import re\n",
    "from array import *\n",
    "import inltk\n",
    "from inltk.inltk import setup,tokenize"
   ]
  },
  {
   "cell_type": "code",
   "execution_count": 2,
   "id": "783c95a8",
   "metadata": {},
   "outputs": [
    {
     "data": {
      "text/html": [
       "<div>\n",
       "<style scoped>\n",
       "    .dataframe tbody tr th:only-of-type {\n",
       "        vertical-align: middle;\n",
       "    }\n",
       "\n",
       "    .dataframe tbody tr th {\n",
       "        vertical-align: top;\n",
       "    }\n",
       "\n",
       "    .dataframe thead th {\n",
       "        text-align: right;\n",
       "    }\n",
       "</style>\n",
       "<table border=\"1\" class=\"dataframe\">\n",
       "  <thead>\n",
       "    <tr style=\"text-align: right;\">\n",
       "      <th></th>\n",
       "      <th>headings</th>\n",
       "      <th>paras</th>\n",
       "      <th>label</th>\n",
       "    </tr>\n",
       "  </thead>\n",
       "  <tbody>\n",
       "    <tr>\n",
       "      <th>0</th>\n",
       "      <td>‘लभ स्टेसन’ भियतनाम र इन्डोनेसियामा</td>\n",
       "      <td>नेपाली कथानक फिल्म ‘लभ स्टेसन’ को टिम यति बेला...</td>\n",
       "      <td>entertainment</td>\n",
       "    </tr>\n",
       "    <tr>\n",
       "      <th>1</th>\n",
       "      <td>चाडबाडलगत्तै तरकारी सस्तियो</td>\n",
       "      <td>दसैंको मुखमा अस्वाभाविक बढेको तरकारी तथा फलफूल...</td>\n",
       "      <td>business</td>\n",
       "    </tr>\n",
       "    <tr>\n",
       "      <th>2</th>\n",
       "      <td>किङ्गफिसर बियर नेपाली बजारमा</td>\n",
       "      <td>एशियाकै ठूलो बियर कम्पनी मध्येको युनाइटेड ब्रु...</td>\n",
       "      <td>business</td>\n",
       "    </tr>\n",
       "    <tr>\n",
       "      <th>3</th>\n",
       "      <td>अर्बपतिका आँखा अन्तरिक्षतिर</td>\n",
       "      <td>संसारका धनाढ्यहरू अन्तरिक्ष यात्रालाई सस्तो र ...</td>\n",
       "      <td>business</td>\n",
       "    </tr>\n",
       "    <tr>\n",
       "      <th>4</th>\n",
       "      <td>‘आई एम सरी’ भन्दै सौगात</td>\n",
       "      <td>निकेश खड्का निर्देशित फिल्म ‘फाटेको जुत्ता’ को...</td>\n",
       "      <td>entertainment</td>\n",
       "    </tr>\n",
       "  </tbody>\n",
       "</table>\n",
       "</div>"
      ],
      "text/plain": [
       "                              headings  \\\n",
       "0  ‘लभ स्टेसन’ भियतनाम र इन्डोनेसियामा   \n",
       "1          चाडबाडलगत्तै तरकारी सस्तियो   \n",
       "2       किङ्गफिसर बियर नेपाली बजारमा     \n",
       "3          अर्बपतिका आँखा अन्तरिक्षतिर   \n",
       "4              ‘आई एम सरी’ भन्दै सौगात   \n",
       "\n",
       "                                               paras          label  \n",
       "0  नेपाली कथानक फिल्म ‘लभ स्टेसन’ को टिम यति बेला...  entertainment  \n",
       "1  दसैंको मुखमा अस्वाभाविक बढेको तरकारी तथा फलफूल...       business  \n",
       "2  एशियाकै ठूलो बियर कम्पनी मध्येको युनाइटेड ब्रु...       business  \n",
       "3  संसारका धनाढ्यहरू अन्तरिक्ष यात्रालाई सस्तो र ...       business  \n",
       "4  निकेश खड्का निर्देशित फिल्म ‘फाटेको जुत्ता’ को...  entertainment  "
      ]
     },
     "execution_count": 2,
     "metadata": {},
     "output_type": "execute_result"
    }
   ],
   "source": [
    "#GETTING AVAILABLE DATASET:\n",
    "\n",
    "dataset_train = pd.read_csv(\"nepali_news_dataset/train.csv\")\n",
    "dataset_train.head()"
   ]
  },
  {
   "cell_type": "code",
   "execution_count": 3,
   "id": "997012cc",
   "metadata": {},
   "outputs": [
    {
     "data": {
      "text/plain": [
       "array(['entertainment', 'business', 'sports'], dtype=object)"
      ]
     },
     "execution_count": 3,
     "metadata": {},
     "output_type": "execute_result"
    }
   ],
   "source": [
    "#Finding the unique labels\n",
    "dataset_train[\"label\"].unique()"
   ]
  },
  {
   "cell_type": "code",
   "execution_count": 15,
   "id": "b004e411",
   "metadata": {},
   "outputs": [
    {
     "data": {
      "text/plain": [
       "'नेपाली कथानक फिल्म ‘लभ स्टेसन’ को टिम यति बेला भियतनाम र\\xa0इन्डोनेसियामा छ\\u202f। फिल्मको गीत छायांकनका लागि अभिनेता प्रदीप खड्का, अभिनेत्री जसिता गुरुङ, निर्माता गोविन्द शाही, कोरियोग्राफर शिशिर खाती, क्यामेरा पर्सन आलोक शुक्लासहितको टिम यी देश पुगेका हुन्\\u202f।'"
      ]
     },
     "execution_count": 15,
     "metadata": {},
     "output_type": "execute_result"
    }
   ],
   "source": [
    "dataset_train[\"paras\"][]"
   ]
  },
  {
   "cell_type": "code",
   "execution_count": 34,
   "id": "52dc637c",
   "metadata": {},
   "outputs": [
    {
     "data": {
      "text/plain": [
       "'नेपाली कथानक फिल्म  लभ स्टेसन  को टिम यति बेला भियतनाम र\\xa0इन्डोनेसियामा छ\\u202f। फिल्मको गीत छायांकनका लागि अभिनेता प्रदीप खड्का  अभिनेत्री जसिता गुरुङ  निर्माता गोविन्द शाही  कोरियोग्राफर शिशिर खाती  क्यामेरा पर्सन आलोक शुक्लासहितको टिम यी देश पुगेका हुन्\\u202f।'"
      ]
     },
     "execution_count": 34,
     "metadata": {},
     "output_type": "execute_result"
    }
   ],
   "source": [
    "#Removing the punctuation symbols and numbers\n",
    "cleaned_data = re.sub(\"[०-९,|:;‘’]\", ' ', dataset_train['paras'][0]) \n",
    "cleaned_data"
   ]
  },
  {
   "cell_type": "code",
   "execution_count": 35,
   "id": "b49a8f0d",
   "metadata": {},
   "outputs": [
    {
     "name": "stdout",
     "output_type": "stream",
     "text": [
      "['▁नेपाली', '▁कथानक', '▁फिल्म', '▁‘', 'ल', 'भ', '▁स्टेसन', '’', '▁को', '▁टिम', '▁यति', '▁बेला', '▁भियतनाम', '▁र', '▁इन्डोनेसिया', 'मा', '▁छ', '▁।', '▁फिल्म', 'को', '▁गीत', '▁छाया', 'ंक', 'न', 'का', '▁लागि', '▁अभिनेता', '▁प्रदीप', '▁खड्का', ',', '▁अभिनेत्री', '▁जस', 'िता', '▁गुरुङ', ',', '▁निर्माता', '▁गोविन्द', '▁शाही', ',', '▁को', 'रियो', 'ग्राफ', 'र', '▁शिशिर', '▁खा', 'ती', ',', '▁क्यामेरा', '▁पर्', 'सन', '▁आ', 'लोक', '▁शुक्ल', 'ा', 'सहित', 'को', '▁टिम', '▁यी', '▁देश', '▁पुगेका', '▁हुन्', '▁।']\n"
     ]
    }
   ],
   "source": [
    "#Tokenizing the sentence into words\n",
    "tokenized= tokenize(dataset_train[\"paras\"][0],language_code='ne')\n",
    "print(tokenized)"
   ]
  },
  {
   "cell_type": "code",
   "execution_count": 36,
   "id": "3b043451",
   "metadata": {},
   "outputs": [
    {
     "name": "stdout",
     "output_type": "stream",
     "text": [
      "['अक्सर', 'अगाडि', 'अझै', 'अनुसार', 'अन्तर्गत', 'अन्य', 'अन्यत्र', 'अन्यथा', 'अब', 'अरू', 'अरूलाई', 'अर्को', 'अर्थात', 'अर्थात्', 'अलग', 'आए', 'आजको', 'आठ', 'आत्म', 'आदि', 'आफू', 'आफूलाई', 'आफैलाई', 'आफ्नै', 'आफ्नो', 'आयो', 'उदाहरण', 'उन', 'उनको', 'उनले', 'उप', 'उहाँलाई', 'एउटै', 'एक', 'एकदम', 'औं', 'कतै', 'कम से कम', 'कसरी', 'कसै', 'कसैले', 'कहाँबाट', 'कहिलेकाहीं', 'कहिल्यै', 'कहीं', 'का', 'कि', 'किन', 'किनभने', 'कुनै', 'कुरा', 'कृपया', 'के', 'केहि', 'केही', 'को', 'कोही', 'क्रमशः', 'गए', 'गरि', 'गरी', 'गरेका', 'गरेको', 'गरेर', 'गरौं', 'गर्छ', 'गर्छु', 'गर्दै', 'गर्न', 'गर्नु', 'गर्नुपर्छ', 'गर्ने', 'गर्यौं', 'गैर', 'चाँडै', 'चार', 'चाले', 'चाहनुहुन्छ', 'चाहन्छु', 'चाहिए', 'छ', 'छन्', 'छु', 'छैन', 'छौँ', 'छौं', 'जताततै', 'जब', 'जबकि', 'जसको', 'जसबाट', 'जसमा', 'जसलाई', 'जसले', 'जस्तै', 'जस्तो', 'जस्तोसुकै', 'जहाँ', 'जान', 'जाहिर', 'जुन', 'जे', 'जो', 'ठीक', 'त', 'तत्काल', 'तथा', 'तदनुसार', 'तपाइँको', 'तपाईं', 'तर', 'तल', 'तापनि', 'तिनी', 'तिनीहरू', 'तिनीहरूको', 'तिनीहरूलाई', 'तिनीहरूले', 'तिमी', 'तिर', 'ती', 'तीन', 'तुरुन्तै', 'तेस्रो', 'त्यसकारण', 'त्यसपछि', 'त्यसमा', 'त्यसैले', 'त्यहाँ', 'त्यो', 'थिए', 'थिएन', 'थिएनन्', 'थियो', 'दिए', 'दिनुभएको', 'दिनुहुन्छ', 'दुई', 'देख', 'देखि', 'देखिन्छ', 'देखियो', 'देखे', 'देखेको', 'देखेर', 'देख्न', 'दोश्रो', 'दोस्रो', 'धेरै', 'न', 'नजिकै', 'नत्र', 'नयाँ', 'नि', 'निम्ति', 'निम्न', 'निम्नानुसार', 'निर्दिष्ट', 'नै', 'नौ', 'पक्का', 'पक्कै', 'पछि', 'पछिल्लो', 'पटक', 'पनि', 'पर्छ', 'पर्थ्यो', 'पर्याप्त', 'पहिले', 'पहिलो', 'पहिल्यै', 'पाँच', 'पाँचौं', 'पूर्व', 'प्रति', 'प्रत्येक', 'प्लस', 'फेरि', 'बने', 'बन्द', 'बन्न', 'बरु', 'बाटो', 'बारे', 'बाहिर', 'बाहेक', 'बीच', 'बीचमा', 'भए', 'भएको', 'भन', 'भने', 'भने्', 'भन्छन्', 'भन्छु', 'भन्दा', 'भन्नुभयो', 'भन्ने', 'भर', 'भित्र', 'भित्री', 'म', 'मलाई', 'मा', 'मात्र', 'माथि', 'मुख्य', 'मेरो', 'यति', 'यथोचित', 'यदि', 'यद्यपि', 'यस', 'यसको', 'यसपछि', 'यसबाहेक', 'यसरी', 'यसो', 'यस्तो', 'यहाँ', 'यहाँसम्म', 'या', 'यी', 'यो', 'र', 'रही', 'रहेका', 'रहेको', 'राखे', 'राख्छ', 'राम्रो', 'रूप', 'लगभग', 'लाई', 'लागि', 'ले', 'वरिपरि', 'वास्तवमा', 'वाहेक', 'विरुद्ध', 'विशेष', 'शायद', 'सँग', 'सँगै', 'सक्छ', 'सट्टा', 'सधैं', 'सबै', 'सबैलाई', 'समय', 'सम्भव', 'सम्म', 'सही', 'साँच्चै', 'सात', 'साथ', 'साथै', 'सायद', 'सारा', 'सो', 'सोध्न', 'सोही', 'स्पष्ट', 'हरे', 'हरेक', 'हामी', 'हामीलाई', 'हाम्रो', 'हुँ', 'हुन', 'हुने', 'हुनेछ', 'हुन्', 'हुन्छ', 'हो', 'होइन', 'होइनन्', 'होला', 'होस्']\n"
     ]
    }
   ],
   "source": [
    "#Introducing nepali stopwords\n",
    "\n",
    "my_file = open('nepali_stopwords.txt', encoding='utf-8')\n",
    "all_the_lines = my_file.readlines()\n",
    "items = []\n",
    "for i in all_the_lines:\n",
    "    items.append(i)\n",
    "\n",
    "nep_stopwords = list(map(lambda s: s.strip(), items))\n",
    "print(nep_stopwords)"
   ]
  },
  {
   "cell_type": "code",
   "execution_count": 38,
   "id": "d6dac33d",
   "metadata": {},
   "outputs": [
    {
     "name": "stdout",
     "output_type": "stream",
     "text": [
      "['▁नेपाली', '▁कथानक', '▁फिल्म', '▁‘', 'ल', 'भ', '▁स्टेसन', '’', '▁को', '▁टिम', '▁यति', '▁बेला', '▁भियतनाम', '▁र', '▁इन्डोनेसिया', '▁छ', '▁।', '▁फिल्म', '▁गीत', '▁छाया', 'ंक', '▁लागि', '▁अभिनेता', '▁प्रदीप', '▁खड्का', ',', '▁अभिनेत्री', '▁जस', 'िता', '▁गुरुङ', ',', '▁निर्माता', '▁गोविन्द', '▁शाही', ',', '▁को', 'रियो', 'ग्राफ', '▁शिशिर', '▁खा', ',', '▁क्यामेरा', '▁पर्', 'सन', '▁आ', 'लोक', '▁शुक्ल', 'ा', 'सहित', '▁टिम', '▁यी', '▁देश', '▁पुगेका', '▁हुन्', '▁।']\n"
     ]
    }
   ],
   "source": [
    "#Finding the cleaned-up sentences with no stopwords\n",
    "\n",
    "no_stopword_cleaned_data= [word for word in tokenized if not word in nep_stopwords]\n",
    "print(no_stopword_cleaned_data)"
   ]
  },
  {
   "cell_type": "code",
   "execution_count": null,
   "id": "ed007804",
   "metadata": {},
   "outputs": [],
   "source": []
  }
 ],
 "metadata": {
  "kernelspec": {
   "display_name": "Python 3 (ipykernel)",
   "language": "python",
   "name": "python3"
  },
  "language_info": {
   "codemirror_mode": {
    "name": "ipython",
    "version": 3
   },
   "file_extension": ".py",
   "mimetype": "text/x-python",
   "name": "python",
   "nbconvert_exporter": "python",
   "pygments_lexer": "ipython3",
   "version": "3.9.12"
  }
 },
 "nbformat": 4,
 "nbformat_minor": 5
}
