{
 "cells": [
  {
   "cell_type": "markdown",
   "id": "3ba07810",
   "metadata": {},
   "source": [
    "# Making Decisions and Taking Control"
   ]
  },
  {
   "cell_type": "markdown",
   "id": "c17d80de",
   "metadata": {},
   "source": [
    "One of the most significant properties of programming, and thus subsequently natural language processing, is the ability of the programs to make decisions in instructed and or automated fashion, executing instructions when certain conditions are fulfilled, or repeatedly going through loops on textual data until some condition is satisfied."
   ]
  },
  {
   "cell_type": "markdown",
   "id": "4bddf12c",
   "metadata": {},
   "source": [
    "# Conditionals"
   ]
  },
  {
   "cell_type": "markdown",
   "id": "9ca6cde1",
   "metadata": {},
   "source": [
    "Python programming supports a wide range of operators, such as <, >=,==, !=, etc. for testing the relationship between values. We can use the various operators to select different words from a sentence of a piece of text. "
   ]
  },
  {
   "cell_type": "code",
   "execution_count": 1,
   "id": "f36c1116",
   "metadata": {},
   "outputs": [
    {
     "name": "stdout",
     "output_type": "stream",
     "text": [
      "*** Introductory Examples for the NLTK Book ***\n",
      "Loading text1, ..., text9 and sent1, ..., sent9\n",
      "Type the name of the text or sentence to view it.\n",
      "Type: 'texts()' or 'sents()' to list the materials.\n",
      "text1: Moby Dick by Herman Melville 1851\n",
      "text2: Sense and Sensibility by Jane Austen 1811\n",
      "text3: The Book of Genesis\n",
      "text4: Inaugural Address Corpus\n",
      "text5: Chat Corpus\n",
      "text6: Monty Python and the Holy Grail\n",
      "text7: Wall Street Journal\n",
      "text8: Personals Corpus\n",
      "text9: The Man Who Was Thursday by G . K . Chesterton 1908\n"
     ]
    }
   ],
   "source": [
    "#Importing various books in- built in nltk library\n",
    "from nltk.book import *"
   ]
  },
  {
   "cell_type": "code",
   "execution_count": 2,
   "id": "ac55ff3f",
   "metadata": {},
   "outputs": [
    {
     "name": "stdout",
     "output_type": "stream",
     "text": [
      "['I', 'have', 'a', 'problem', 'with', 'people', 'PMing', 'me', 'to', 'lol', 'JOIN']\n"
     ]
    }
   ],
   "source": [
    "#fact: senti is first sentence of text texti, e.g, sent1 of text1, sent2 of text2, etc.\n",
    "print(sent5)"
   ]
  },
  {
   "cell_type": "code",
   "execution_count": 3,
   "id": "c4369154",
   "metadata": {},
   "outputs": [
    {
     "name": "stdout",
     "output_type": "stream",
     "text": [
      "Usage of 'less-than' condition in a list- based operation: \n",
      "['I', 'a', 'me', 'to', 'lol']\n"
     ]
    }
   ],
   "source": [
    "print(\"Usage of 'less-than' condition in a list- based operation: \")\n",
    "sent5_with_fit1 =[word for word in sent5 if len(word) < 4]\n",
    "print(sent5_with_fit1)"
   ]
  },
  {
   "cell_type": "code",
   "execution_count": 4,
   "id": "a38d867f",
   "metadata": {},
   "outputs": [
    {
     "name": "stdout",
     "output_type": "stream",
     "text": [
      "Usage of 'less-than or equal-to' condition in a list- based operation: \n",
      "['I', 'have', 'a', 'with', 'me', 'to', 'lol', 'JOIN']\n"
     ]
    }
   ],
   "source": [
    "print(\"Usage of 'less-than or equal-to' condition in a list- based operation: \")\n",
    "sent5_with_fit1 =[word for word in sent5 if len(word) <= 4]\n",
    "print(sent5_with_fit1)"
   ]
  },
  {
   "cell_type": "code",
   "execution_count": 5,
   "id": "5f665f48",
   "metadata": {},
   "outputs": [
    {
     "name": "stdout",
     "output_type": "stream",
     "text": [
      "Usage of 'equal-to' condition in a list- based operation: \n",
      "['have', 'with', 'JOIN']\n"
     ]
    }
   ],
   "source": [
    "print(\"Usage of 'equal-to' condition in a list- based operation: \")\n",
    "sent5_with_fit1 =[word for word in sent5 if len(word) == 4]\n",
    "print(sent5_with_fit1)"
   ]
  },
  {
   "cell_type": "code",
   "execution_count": 6,
   "id": "6c9a155c",
   "metadata": {},
   "outputs": [
    {
     "name": "stdout",
     "output_type": "stream",
     "text": [
      "Usage of 'not equal-to' condition in a list- based operation: \n",
      "['I', 'a', 'problem', 'people', 'PMing', 'me', 'to', 'lol']\n"
     ]
    }
   ],
   "source": [
    "print(\"Usage of 'not equal-to' condition in a list- based operation: \")\n",
    "sent5_with_fit1 =[word for word in sent5 if len(word) != 4]\n",
    "print(sent5_with_fit1)"
   ]
  },
  {
   "cell_type": "code",
   "execution_count": null,
   "id": "9f488ca9",
   "metadata": {},
   "outputs": [],
   "source": []
  },
  {
   "cell_type": "markdown",
   "id": "fa766816",
   "metadata": {},
   "source": [
    "# Operating on Every Element"
   ]
  },
  {
   "cell_type": "markdown",
   "id": "ea4da24e",
   "metadata": {},
   "source": [
    "For performing operations on every element of the list under consideration, we use expressions with the syntactical form [f(w) for …] or [w.f() for …], where f is a function that operates on each word of the list to perform operations like computing its length, converting it to uppercase, converting it to lowercase, etc ."
   ]
  },
  {
   "cell_type": "code",
   "execution_count": 7,
   "id": "ca4e2c42",
   "metadata": {},
   "outputs": [
    {
     "name": "stdout",
     "output_type": "stream",
     "text": [
      "Size of vocabulary of text1: \n"
     ]
    },
    {
     "data": {
      "text/plain": [
       "260819"
      ]
     },
     "execution_count": 7,
     "metadata": {},
     "output_type": "execute_result"
    }
   ],
   "source": [
    "print(\"Size of vocabulary of text1: \")\n",
    "len(text1)"
   ]
  },
  {
   "cell_type": "code",
   "execution_count": 8,
   "id": "883ea0fc",
   "metadata": {},
   "outputs": [
    {
     "name": "stdout",
     "output_type": "stream",
     "text": [
      "Size of vocabulary of text1 with set operation applied: \n"
     ]
    },
    {
     "data": {
      "text/plain": [
       "19317"
      ]
     },
     "execution_count": 8,
     "metadata": {},
     "output_type": "execute_result"
    }
   ],
   "source": [
    "print(\"Size of vocabulary of text1 with set operation applied: \")\n",
    "len(set(text1))"
   ]
  },
  {
   "cell_type": "code",
   "execution_count": 9,
   "id": "077998fd",
   "metadata": {},
   "outputs": [
    {
     "data": {
      "text/plain": [
       "260819"
      ]
     },
     "execution_count": 9,
     "metadata": {},
     "output_type": "execute_result"
    }
   ],
   "source": [
    "#Using the syntax  [w.f() for …] for conversion of every word in the text to lowercase\n",
    "text1_lower=[word.lower() for word in text1]\n",
    "len(text1_lower)"
   ]
  },
  {
   "cell_type": "code",
   "execution_count": 10,
   "id": "54a5f05e",
   "metadata": {},
   "outputs": [
    {
     "name": "stdout",
     "output_type": "stream",
     "text": [
      "Size of vocabulary of text1 with set operation applied on lower_cased text: \n"
     ]
    },
    {
     "data": {
      "text/plain": [
       "17231"
      ]
     },
     "execution_count": 10,
     "metadata": {},
     "output_type": "execute_result"
    }
   ],
   "source": [
    "print(\"Size of vocabulary of text1 with set operation applied on lower_cased text: \")\n",
    "len(set(text1_lower))"
   ]
  },
  {
   "cell_type": "markdown",
   "id": "cc5b3e40",
   "metadata": {},
   "source": [
    "Note: The set operations are used to avoid duplication (or for de- duplication effects), which show clearly in the contrast of values between the operations, len(set(text1)) and len(set(text1_lower)).      "
   ]
  },
  {
   "cell_type": "markdown",
   "id": "3052eb30",
   "metadata": {},
   "source": [
    "The following piece of code can be used in case we want to really clean the textual information and operate on the textual information only that are exclusively alphabetic (i.e, no numbers,punctuation signs or any special character)."
   ]
  },
  {
   "cell_type": "code",
   "execution_count": 11,
   "id": "b7dbb4d6",
   "metadata": {},
   "outputs": [
    {
     "data": {
      "text/plain": [
       "16948"
      ]
     },
     "execution_count": 11,
     "metadata": {},
     "output_type": "execute_result"
    }
   ],
   "source": [
    "len(set(word.lower() for word in text1 if word.isalpha()))"
   ]
  },
  {
   "cell_type": "markdown",
   "id": "664cf1b6",
   "metadata": {},
   "source": [
    "# Nested Code Blocks"
   ]
  },
  {
   "cell_type": "markdown",
   "id": "1ce80c09",
   "metadata": {},
   "source": [
    "As also implied by the literal meaning of \"nested\", the concept of nested code blocks is basically the concept of code blocks within code- blocks. These blocks are used in cases when multiple conditions have to be put in order to accomplish the programming operations. Nested code- blocks can be used in complex programs that need to be logically analyzed, in a nested fashion, into easy-to-handle blocks. "
   ]
  },
  {
   "cell_type": "markdown",
   "id": "bfe0e1b6",
   "metadata": {},
   "source": [
    "Question: Input a word and find out if all the letters of the word are in lower- case or not. If yes, check if the word length is greater than 6 or not. "
   ]
  },
  {
   "cell_type": "code",
   "execution_count": 12,
   "id": "fea71a07",
   "metadata": {
    "scrolled": true
   },
   "outputs": [
    {
     "name": "stdout",
     "output_type": "stream",
     "text": [
      "Enter the word: car\n",
      "All letters of the word are in lower- case but the word length is not greater than 6\n"
     ]
    }
   ],
   "source": [
    "word = input('Enter the word: ')\n",
    "\n",
    "if word.islower():\n",
    "    if len(word) >6:\n",
    "        print('All letters of the word are in lower- case and the word length is greater than 6')\n",
    "    else:\n",
    "        print('All letters of the word are in lower- case but the word length is not greater than 6')\n",
    "else:\n",
    "    print('All the letters are not in lower-case.')   "
   ]
  },
  {
   "cell_type": "code",
   "execution_count": null,
   "id": "5b211edf",
   "metadata": {},
   "outputs": [],
   "source": []
  },
  {
   "cell_type": "code",
   "execution_count": null,
   "id": "877f7890",
   "metadata": {},
   "outputs": [],
   "source": []
  },
  {
   "cell_type": "markdown",
   "id": "29f3d4bd",
   "metadata": {},
   "source": [
    "# Looping with Conditions"
   ]
  },
  {
   "cell_type": "markdown",
   "id": "c205c26a",
   "metadata": {},
   "source": [
    "Looping is the operation being done on various versions of a variable that is updated in each new cycle of operations known as loop. Conditions are applied when we want to filter the data with well- defined specified constraints and limitations. In cases when needs of multiple loops and constraints are simulteneously present, we use looping with conditions.   "
   ]
  },
  {
   "cell_type": "code",
   "execution_count": 13,
   "id": "ad30c4eb",
   "metadata": {},
   "outputs": [
    {
     "name": "stdout",
     "output_type": "stream",
     "text": [
      "Original length of text1: \n"
     ]
    },
    {
     "data": {
      "text/plain": [
       "260819"
      ]
     },
     "execution_count": 13,
     "metadata": {},
     "output_type": "execute_result"
    }
   ],
   "source": [
    "print(\"Original length of text1: \")\n",
    "len(text1)"
   ]
  },
  {
   "cell_type": "code",
   "execution_count": 14,
   "id": "3af11e54",
   "metadata": {},
   "outputs": [
    {
     "name": "stdout",
     "output_type": "stream",
     "text": [
      "Length of text1 with set operation applied to the entire text1: \n"
     ]
    },
    {
     "data": {
      "text/plain": [
       "19317"
      ]
     },
     "execution_count": 14,
     "metadata": {},
     "output_type": "execute_result"
    }
   ],
   "source": [
    "print(\"Length of text1 with set operation applied to the entire text1: \")\n",
    "len(set(text1))"
   ]
  },
  {
   "cell_type": "code",
   "execution_count": 15,
   "id": "2c73fa5e",
   "metadata": {},
   "outputs": [
    {
     "name": "stdout",
     "output_type": "stream",
     "text": [
      "Length of text1 after transformation, i.e, new_text1: \n"
     ]
    },
    {
     "data": {
      "text/plain": [
       "218361"
      ]
     },
     "execution_count": 15,
     "metadata": {},
     "output_type": "execute_result"
    }
   ],
   "source": [
    "new_text1=[]\n",
    "for word in text1:\n",
    "    if word.isalpha():\n",
    "        new_text1.append(word.lower())\n",
    "\n",
    "print(\"Length of text1 after transformation, i.e, new_text1: \")\n",
    "len(new_text1)"
   ]
  },
  {
   "cell_type": "code",
   "execution_count": 16,
   "id": "7f0b5e87",
   "metadata": {},
   "outputs": [
    {
     "name": "stdout",
     "output_type": "stream",
     "text": [
      "Length of new_text1 with set operation applied to the entire new_text1: \n"
     ]
    },
    {
     "data": {
      "text/plain": [
       "16948"
      ]
     },
     "execution_count": 16,
     "metadata": {},
     "output_type": "execute_result"
    }
   ],
   "source": [
    "print(\"Length of new_text1 with set operation applied to the entire new_text1: \")\n",
    "len(set(new_text1))"
   ]
  },
  {
   "cell_type": "code",
   "execution_count": null,
   "id": "dbf43157",
   "metadata": {},
   "outputs": [],
   "source": []
  }
 ],
 "metadata": {
  "kernelspec": {
   "display_name": "Python 3 (ipykernel)",
   "language": "python",
   "name": "python3"
  },
  "language_info": {
   "codemirror_mode": {
    "name": "ipython",
    "version": 3
   },
   "file_extension": ".py",
   "mimetype": "text/x-python",
   "name": "python",
   "nbconvert_exporter": "python",
   "pygments_lexer": "ipython3",
   "version": "3.9.12"
  }
 },
 "nbformat": 4,
 "nbformat_minor": 5
}
