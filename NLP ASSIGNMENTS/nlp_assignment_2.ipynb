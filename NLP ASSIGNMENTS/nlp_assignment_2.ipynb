{
 "cells": [
  {
   "cell_type": "markdown",
   "id": "936c1f1d",
   "metadata": {},
   "source": [
    "Question: Find different formats of dates in a given text."
   ]
  },
  {
   "cell_type": "markdown",
   "id": "a8d00e85",
   "metadata": {},
   "source": [
    "Different formats can be used to denote various dates based on individual preferance or need of the situation. We need to have the information of the formats that need to be matched. And, regular expression (re) library provides intuitive syntaxes and ways to find the matches for the various patterns."
   ]
  },
  {
   "cell_type": "code",
   "execution_count": 1,
   "id": "8bc0fd11",
   "metadata": {},
   "outputs": [],
   "source": [
    "import re"
   ]
  },
  {
   "cell_type": "markdown",
   "id": "9d5a1e1d",
   "metadata": {},
   "source": [
    "For illustration, let's consider the following textual information to find the dates of different formats"
   ]
  },
  {
   "cell_type": "code",
   "execution_count": 2,
   "id": "c793782a",
   "metadata": {},
   "outputs": [],
   "source": [
    "text_to_search='''\n",
    "The dates that we have to deal with are: \n",
    "\n",
    "03-21-2010\n",
    "07/31/2008\n",
    "08.20.2006\n",
    "\n",
    "05-25-2011\n",
    "07/12/2018\n",
    "05.22.2016\n",
    "\n",
    "'''"
   ]
  },
  {
   "cell_type": "code",
   "execution_count": 3,
   "id": "53dbe669",
   "metadata": {},
   "outputs": [],
   "source": [
    "#Defining the various patterns of dates that could be observed in the raw- text given. \n",
    "\n",
    "pattern_dashed= re.compile(r'\\d\\d-\\d\\d-\\d\\d\\d\\d') \n",
    "pattern_slashed= re.compile(r'\\d\\d/\\d\\d/\\d\\d\\d\\d') \n",
    "pattern_dotted= re.compile(r'\\d\\d\\.\\d\\d\\.\\d\\d\\d\\d') "
   ]
  },
  {
   "cell_type": "code",
   "execution_count": 4,
   "id": "24fd9687",
   "metadata": {},
   "outputs": [],
   "source": [
    "#Defining the variable 'matches' for the matches of the pattern found in the text\n",
    "\n",
    "matches_dashed= pattern_dashed.finditer(text_to_search)\n",
    "matches_slashed= pattern_slashed.finditer(text_to_search)\n",
    "matches_dotted= pattern_dotted.finditer(text_to_search)"
   ]
  },
  {
   "cell_type": "code",
   "execution_count": 5,
   "id": "6f46b3ed",
   "metadata": {},
   "outputs": [
    {
     "name": "stdout",
     "output_type": "stream",
     "text": [
      "Matches of dates in dotted format:\n"
     ]
    }
   ],
   "source": [
    "print(\"Matches of dates in dotted format:\")"
   ]
  },
  {
   "cell_type": "code",
   "execution_count": 6,
   "id": "2ae7dc42",
   "metadata": {},
   "outputs": [
    {
     "name": "stdout",
     "output_type": "stream",
     "text": [
      "<re.Match object; span=(66, 76), match='08.20.2006'>\n",
      "<re.Match object; span=(100, 110), match='05.22.2016'>\n"
     ]
    }
   ],
   "source": [
    "for dotted_match in matches_dotted:\n",
    "    print(dotted_match)"
   ]
  },
  {
   "cell_type": "code",
   "execution_count": 7,
   "id": "3fa0fb82",
   "metadata": {},
   "outputs": [
    {
     "name": "stdout",
     "output_type": "stream",
     "text": [
      "Matches of dates in dashed format:\n"
     ]
    }
   ],
   "source": [
    "print(\"Matches of dates in dashed format:\")"
   ]
  },
  {
   "cell_type": "code",
   "execution_count": 8,
   "id": "a69ab9b1",
   "metadata": {},
   "outputs": [
    {
     "name": "stdout",
     "output_type": "stream",
     "text": [
      "<re.Match object; span=(44, 54), match='03-21-2010'>\n",
      "<re.Match object; span=(78, 88), match='05-25-2011'>\n"
     ]
    }
   ],
   "source": [
    "for dashed_match in matches_dashed:\n",
    "    print(dashed_match)"
   ]
  },
  {
   "cell_type": "code",
   "execution_count": 9,
   "id": "72b68420",
   "metadata": {},
   "outputs": [
    {
     "name": "stdout",
     "output_type": "stream",
     "text": [
      "Matches of dates in slashed format:\n"
     ]
    }
   ],
   "source": [
    "print(\"Matches of dates in slashed format:\")"
   ]
  },
  {
   "cell_type": "code",
   "execution_count": 10,
   "id": "cf355fe0",
   "metadata": {},
   "outputs": [
    {
     "name": "stdout",
     "output_type": "stream",
     "text": [
      "<re.Match object; span=(55, 65), match='07/31/2008'>\n",
      "<re.Match object; span=(89, 99), match='07/12/2018'>\n"
     ]
    }
   ],
   "source": [
    "for slashed_match in matches_slashed:\n",
    "    print(slashed_match)"
   ]
  },
  {
   "cell_type": "code",
   "execution_count": null,
   "id": "b9552b9d",
   "metadata": {},
   "outputs": [],
   "source": []
  },
  {
   "cell_type": "code",
   "execution_count": null,
   "id": "f0878c6d",
   "metadata": {},
   "outputs": [],
   "source": []
  },
  {
   "cell_type": "code",
   "execution_count": null,
   "id": "1182277b",
   "metadata": {},
   "outputs": [],
   "source": []
  },
  {
   "cell_type": "code",
   "execution_count": null,
   "id": "4f36175f",
   "metadata": {},
   "outputs": [],
   "source": []
  }
 ],
 "metadata": {
  "kernelspec": {
   "display_name": "Python 3 (ipykernel)",
   "language": "python",
   "name": "python3"
  },
  "language_info": {
   "codemirror_mode": {
    "name": "ipython",
    "version": 3
   },
   "file_extension": ".py",
   "mimetype": "text/x-python",
   "name": "python",
   "nbconvert_exporter": "python",
   "pygments_lexer": "ipython3",
   "version": "3.9.12"
  }
 },
 "nbformat": 4,
 "nbformat_minor": 5
}
