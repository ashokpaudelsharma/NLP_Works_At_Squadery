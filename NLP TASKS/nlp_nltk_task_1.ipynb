{
 "cells": [
  {
   "cell_type": "markdown",
   "id": "dd1a9630",
   "metadata": {},
   "source": [
    "1. Define a variable my_sent to be a list of words, using the syntax my_sent = [\"My\", \"sent\"] (but with your own words, or a favorite saying).\n",
    "a. Use ' '.join(my_sent) to convert this into a string\n",
    "b. Use split() to split the string back into the list form you had to start with.\n"
   ]
  },
  {
   "cell_type": "code",
   "execution_count": 3,
   "id": "820ecf52",
   "metadata": {},
   "outputs": [],
   "source": [
    "#Import nltk library \n",
    "import nltk "
   ]
  },
  {
   "cell_type": "code",
   "execution_count": 4,
   "id": "e5af4493",
   "metadata": {},
   "outputs": [],
   "source": [
    "#Defining a sentence in the list format as required\n",
    "my_sent= [\"The\", \"quick\", \"brown\", \"fox\", \"jumps\", \"over\", \"the\" ,\"lazy\", \"dog\"]"
   ]
  },
  {
   "cell_type": "code",
   "execution_count": 5,
   "id": "44281203",
   "metadata": {},
   "outputs": [],
   "source": [
    "#Joining the elements of the list (representing the sentence) into a string\n",
    "b=' '.join(my_sent)"
   ]
  },
  {
   "cell_type": "code",
   "execution_count": 6,
   "id": "bcc75300",
   "metadata": {},
   "outputs": [
    {
     "name": "stdout",
     "output_type": "stream",
     "text": [
      "The quick brown fox jumps over the lazy dog\n"
     ]
    }
   ],
   "source": [
    "#Printing the joined- sentence version of our input list\n",
    "print(b)"
   ]
  },
  {
   "cell_type": "code",
   "execution_count": 7,
   "id": "96680c37",
   "metadata": {},
   "outputs": [
    {
     "data": {
      "text/plain": [
       "['The', 'quick', 'brown', 'fox', 'jumps', 'over', 'the', 'lazy', 'dog']"
      ]
     },
     "execution_count": 7,
     "metadata": {},
     "output_type": "execute_result"
    }
   ],
   "source": [
    "#Retrieving the original list\n",
    "my_sent_retrieved= b.split()\n",
    "\n",
    "#Printing the joined- sentence version of our input list\n",
    "my_sent_retrieved"
   ]
  },
  {
   "cell_type": "code",
   "execution_count": null,
   "id": "b6cac99d",
   "metadata": {},
   "outputs": [],
   "source": []
  }
 ],
 "metadata": {
  "kernelspec": {
   "display_name": "Python 3 (ipykernel)",
   "language": "python",
   "name": "python3"
  },
  "language_info": {
   "codemirror_mode": {
    "name": "ipython",
    "version": 3
   },
   "file_extension": ".py",
   "mimetype": "text/x-python",
   "name": "python",
   "nbconvert_exporter": "python",
   "pygments_lexer": "ipython3",
   "version": "3.9.12"
  }
 },
 "nbformat": 4,
 "nbformat_minor": 5
}
