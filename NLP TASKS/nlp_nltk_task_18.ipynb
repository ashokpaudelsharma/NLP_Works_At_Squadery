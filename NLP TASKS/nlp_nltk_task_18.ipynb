{
 "cells": [
  {
   "cell_type": "markdown",
   "id": "ee256f87",
   "metadata": {},
   "source": [
    "18. The IOB format categorizes tagged tokens as I, O, and B. Why are three tags necessary? What problem would be caused if we used I and O tags exclusively?\n"
   ]
  },
  {
   "cell_type": "markdown",
   "id": "d591c7b6",
   "metadata": {},
   "source": [
    "IOB format is the format where each token is tagged with one of three special chunk tags, I (inside), O (outside), or B (begin). A token is tagged as B if it marks the beginning of a chunk. Subsequent tokens within the chunk are tagged I . All other tokens are tagged O ."
   ]
  },
  {
   "cell_type": "markdown",
   "id": "9aa13133",
   "metadata": {},
   "source": [
    "There would be problems if we just used I and O tags exclusively. B is esential because B marks the begining of a token. If we don't have a 'B', then it would not be possible to identify tokens if tokens appear adjacently to each other and in that case, it won't be possible to mark the boundaries."
   ]
  },
  {
   "cell_type": "code",
   "execution_count": null,
   "id": "be5ccb43",
   "metadata": {},
   "outputs": [],
   "source": []
  }
 ],
 "metadata": {
  "kernelspec": {
   "display_name": "Python 3 (ipykernel)",
   "language": "python",
   "name": "python3"
  },
  "language_info": {
   "codemirror_mode": {
    "name": "ipython",
    "version": 3
   },
   "file_extension": ".py",
   "mimetype": "text/x-python",
   "name": "python",
   "nbconvert_exporter": "python",
   "pygments_lexer": "ipython3",
   "version": "3.9.12"
  }
 },
 "nbformat": 4,
 "nbformat_minor": 5
}
