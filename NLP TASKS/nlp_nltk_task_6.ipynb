{
 "cells": [
  {
   "cell_type": "markdown",
   "id": "7ce089b4",
   "metadata": {},
   "source": [
    "6. Define a function percent(word, text) that calculates how often a given word occurs in a text, and expresses the result as a percentage."
   ]
  },
  {
   "cell_type": "code",
   "execution_count": 1,
   "id": "23414fea",
   "metadata": {},
   "outputs": [],
   "source": [
    "#Import the nltk library\n",
    "import nltk"
   ]
  },
  {
   "cell_type": "code",
   "execution_count": 2,
   "id": "9afbd83f",
   "metadata": {},
   "outputs": [],
   "source": [
    "#Defining the text sentence to be used for the analysis\n",
    "text_sent=[\"the\", \"quick\", \"brown\", \"fox\", \"jumps\", \"over\", \"the\",\"very\" ,\"lazy\", \"dog\",\"what\",\"the\",\"surprisingly\",\"quick\",\"fox\"]"
   ]
  },
  {
   "cell_type": "code",
   "execution_count": 3,
   "id": "a263f21a",
   "metadata": {},
   "outputs": [],
   "source": [
    "#Defining the function for % frequency distribution of specific word/s \n",
    "def percent(word,text):\n",
    "    print(\"% Frequency of the word, \"+word+\": \")\n",
    "    print(str(nltk.FreqDist(text).freq(word)*100) +\"%\")\n",
    "    return"
   ]
  },
  {
   "cell_type": "code",
   "execution_count": 4,
   "id": "2ab6d262",
   "metadata": {},
   "outputs": [
    {
     "name": "stdout",
     "output_type": "stream",
     "text": [
      "% Frequency of the word, the: \n",
      "20.0%\n",
      "% Frequency of the word, quick: \n",
      "13.333333333333334%\n",
      "% Frequency of the word, brown: \n",
      "6.666666666666667%\n"
     ]
    }
   ],
   "source": [
    "#Calculating and printing the % frequency distribution of the various specific word/s in the given text \n",
    "percent('the',text_sent)\n",
    "percent('quick',text_sent)\n",
    "percent('brown',text_sent)"
   ]
  },
  {
   "cell_type": "code",
   "execution_count": null,
   "id": "f0ed95d7",
   "metadata": {},
   "outputs": [],
   "source": []
  },
  {
   "cell_type": "code",
   "execution_count": null,
   "id": "29e6f801",
   "metadata": {},
   "outputs": [],
   "source": []
  },
  {
   "cell_type": "code",
   "execution_count": null,
   "id": "3dac40c0",
   "metadata": {},
   "outputs": [],
   "source": []
  },
  {
   "cell_type": "code",
   "execution_count": null,
   "id": "2a351f7f",
   "metadata": {},
   "outputs": [],
   "source": []
  },
  {
   "cell_type": "code",
   "execution_count": null,
   "id": "b9f97027",
   "metadata": {},
   "outputs": [],
   "source": []
  },
  {
   "cell_type": "code",
   "execution_count": null,
   "id": "8a5b2d08",
   "metadata": {},
   "outputs": [],
   "source": []
  }
 ],
 "metadata": {
  "kernelspec": {
   "display_name": "Python 3 (ipykernel)",
   "language": "python",
   "name": "python3"
  },
  "language_info": {
   "codemirror_mode": {
    "name": "ipython",
    "version": 3
   },
   "file_extension": ".py",
   "mimetype": "text/x-python",
   "name": "python",
   "nbconvert_exporter": "python",
   "pygments_lexer": "ipython3",
   "version": "3.9.12"
  }
 },
 "nbformat": 4,
 "nbformat_minor": 5
}
