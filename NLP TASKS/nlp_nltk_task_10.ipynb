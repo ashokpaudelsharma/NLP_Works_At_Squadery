{
 "cells": [
  {
   "cell_type": "markdown",
   "id": "9ff75a6a",
   "metadata": {},
   "source": [
    "10. Write a function that finds the 50 most frequently occurring words of a text that are not stopwords"
   ]
  },
  {
   "cell_type": "code",
   "execution_count": 1,
   "id": "a7c2a64e",
   "metadata": {},
   "outputs": [],
   "source": [
    "import nltk\n",
    "from nltk.corpus import stopwords"
   ]
  },
  {
   "cell_type": "code",
   "execution_count": 2,
   "id": "39f95628",
   "metadata": {},
   "outputs": [],
   "source": [
    "#Defining the text to be considered\n",
    "\n",
    "text=\"Artificial Intelligence (AI) By JAKE FRANKENFIELD Updated March 08, 2021 Reviewed by GORDON SCOTT What Is Artificial Intelligence (AI)? Artificial intelligence (AI) refers to the simulation of human intelligence in machines that are programmed to think like humans and mimic their actions. The term may also be applied to any machine that exhibits traits associated with a human mind such as learning and problem-solving. The ideal characteristic of artificial intelligence is its ability to rationalize and take actions that have the best chance of achieving a specific goal. A subset of artificial intelligence is machine learning, which refers to the concept that computer programs can automatically learn from and adapt to new data without being assisted by humans. Deep learning techniques enable this automatic learning through the absorption of huge amounts of unstructured data such as text, images, or video. KEY TAKEAWAYS Artificial intelligence refers to the simulation of human intelligence in machines. The goals of artificial intelligence include learning, reasoning, and perception. AI is being used across different industries including finance and healthcare. Weak AI tends to be simple and single-task oriented, while strong AI carries on tasks that are more complex and human-like. What if you had started investing years ago? Find out what a hypothetical investment would be worth today. SELECT A STOCK TSLA TESLA INC AAPL APPLE INC NKE NIKE INC AMZN AMAZON.COM, INC WMT WALMART INC SELECT INVESTMENT AMOUNT $ 1,000 SELECT A PURCHASE DATE 5 years ago CALCULATE Understanding Artificial Intelligence (AI) When most people hear the term artificial intelligence, the first thing they usually think of is robots. That's because big-budget films and novels weave stories about human-like machines that wreak havoc on Earth. But nothing could be further from the truth. Artificial intelligence is based on the principle that human intelligence can be defined in a way that a machine can easily mimic it and execute tasks, from the most simple to those that are even more complex. The goals of artificial intelligence include mimicking human cognitive activity. Researchers and developers in the field are making surprisingly rapid strides in mimicking activities such as learning, reasoning, and perception, to the extent that these can be concretely defined. Some believe that innovators may soon be able to develop systems that exceed the capacity of humans to learn or reason out any subject. But others remain skeptical because all cognitive activity is laced with value judgments that are subject to human experience. As technology advances, previous benchmarks that defined artificial intelligence become outdated. For example, machines that calculate basic functions or recognize text through optical character recognition are no longer considered to embody artificial intelligence, since this function is now taken for granted as an inherent computer function. AI is continuously evolving to benefit many different industries. Machines are wired using a cross-disciplinary approach based on mathematics, computer science, linguistics, psychology, and more. Algorithms often play a very important part in the structure of artificial intelligence, where simple algorithms are used in simple applications, while more complex ones help frame strong artificial intelligence. Applications of Artificial Intelligence The applications for artificial intelligence are endless. The technology can be applied to many different sectors and industries. AI is being tested and used in the healthcare industry for dosing drugs and different treatment in patients, and for surgical procedures in the operating room. Other examples of machines with artificial intelligence include computers that play chess and self-driving cars. Each of these machines must weigh the consequences of any action they take, as each action will impact the end result. In chess, the end result is winning the game. For self-driving cars, the computer system must account for all external data and compute it to act in a way that prevents a collision. Artificial intelligence also has applications in the financial industry, where it is used to detect and flag activity in banking and finance such as unusual debit card usage and large account deposits—all of which help a bank's fraud department. Applications for AI are also being used to help streamline and make trading easier. This is done by making supply, demand, and pricing of securities easier to estimate. Categorization of Artificial Intelligence Artificial intelligence can be divided into two different categories: weak and strong. Weak artificial intelligence embodies a system designed to carry out one particular job. Weak AI systems include video games such as the chess example from above and personal assistants such as Amazon's Alexa and Apple's Siri. You ask the assistant a question, it answers it for you. Strong artificial intelligence systems are systems that carry on the tasks considered to be human-like. These tend to be more complex and complicated systems. They are programmed to handle situations in which they may be required to problem solve without having a person intervene. These kinds of systems can be found in applications like self-driving cars or in hospital operating rooms.\""
   ]
  },
  {
   "cell_type": "code",
   "execution_count": 3,
   "id": "22592c76",
   "metadata": {},
   "outputs": [],
   "source": [
    "#Splitting the string text into words, so that subsequent list operations can happen\n",
    "\n",
    "text=text.split()"
   ]
  },
  {
   "cell_type": "code",
   "execution_count": 4,
   "id": "07a89fb6",
   "metadata": {},
   "outputs": [],
   "source": [
    "#Fetching the english stop- words\n",
    "\n",
    "stop_words = stopwords.words('english')"
   ]
  },
  {
   "cell_type": "code",
   "execution_count": 5,
   "id": "fb046d32",
   "metadata": {},
   "outputs": [],
   "source": [
    "def freq_of_words_not_stopwords(text):\n",
    "    \n",
    "    cleaned_list = [w for w in text if w.lower() not in stop_words] \n",
    "    \n",
    "    freqdist = nltk.probability.FreqDist(cleaned_list)\n",
    "    \n",
    "    #print(freqdist.keys()) #Uncomment this commented operation to access all the words in order of frequency \n",
    "    \n",
    "    print(list(freqdist.keys())[:50])"
   ]
  },
  {
   "cell_type": "code",
   "execution_count": 6,
   "id": "be01739f",
   "metadata": {},
   "outputs": [
    {
     "name": "stdout",
     "output_type": "stream",
     "text": [
      "['Artificial', 'Intelligence', '(AI)', 'JAKE', 'FRANKENFIELD', 'Updated', 'March', '08,', '2021', 'Reviewed', 'GORDON', 'SCOTT', '(AI)?', 'intelligence', 'refers', 'simulation', 'human', 'machines', 'programmed', 'think', 'like', 'humans', 'mimic', 'actions.', 'term', 'may', 'also', 'applied', 'machine', 'exhibits', 'traits', 'associated', 'mind', 'learning', 'problem-solving.', 'ideal', 'characteristic', 'artificial', 'ability', 'rationalize', 'take', 'actions', 'best', 'chance', 'achieving', 'specific', 'goal.', 'subset', 'learning,', 'concept']\n"
     ]
    }
   ],
   "source": [
    "freq_of_words_not_stopwords(text)"
   ]
  },
  {
   "cell_type": "code",
   "execution_count": null,
   "id": "ecf15530",
   "metadata": {},
   "outputs": [],
   "source": []
  },
  {
   "cell_type": "code",
   "execution_count": null,
   "id": "51851ba3",
   "metadata": {},
   "outputs": [],
   "source": []
  },
  {
   "cell_type": "code",
   "execution_count": null,
   "id": "c941026d",
   "metadata": {},
   "outputs": [],
   "source": []
  },
  {
   "cell_type": "code",
   "execution_count": null,
   "id": "b95066b5",
   "metadata": {},
   "outputs": [],
   "source": []
  },
  {
   "cell_type": "code",
   "execution_count": null,
   "id": "bf00cc0e",
   "metadata": {},
   "outputs": [],
   "source": []
  },
  {
   "cell_type": "code",
   "execution_count": null,
   "id": "548305c1",
   "metadata": {},
   "outputs": [],
   "source": []
  },
  {
   "cell_type": "code",
   "execution_count": null,
   "id": "c31cf4b9",
   "metadata": {},
   "outputs": [],
   "source": []
  }
 ],
 "metadata": {
  "kernelspec": {
   "display_name": "Python 3 (ipykernel)",
   "language": "python",
   "name": "python3"
  },
  "language_info": {
   "codemirror_mode": {
    "name": "ipython",
    "version": 3
   },
   "file_extension": ".py",
   "mimetype": "text/x-python",
   "name": "python",
   "nbconvert_exporter": "python",
   "pygments_lexer": "ipython3",
   "version": "3.9.12"
  }
 },
 "nbformat": 4,
 "nbformat_minor": 5
}
