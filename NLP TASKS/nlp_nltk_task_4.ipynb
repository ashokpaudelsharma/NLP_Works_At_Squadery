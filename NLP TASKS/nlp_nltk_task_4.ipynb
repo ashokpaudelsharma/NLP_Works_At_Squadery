{
 "cells": [
  {
   "cell_type": "markdown",
   "id": "fdd7f9fd",
   "metadata": {},
   "source": [
    "4. What is the difference between the following two tests: w.isupper() and not w.islower()?"
   ]
  },
  {
   "cell_type": "markdown",
   "id": "bd0f3eb4",
   "metadata": {},
   "source": [
    "CASE 1: There's no word in the word- list containing words with all- capital letters"
   ]
  },
  {
   "cell_type": "code",
   "execution_count": 1,
   "id": "c3a98557",
   "metadata": {},
   "outputs": [],
   "source": [
    "text1= [\"The\", \"quick\", \"brown\", \"fox\", \"jumps\", \"over\", \"the\" ,\"lazy\", \"dog\"]"
   ]
  },
  {
   "cell_type": "code",
   "execution_count": 2,
   "id": "fe275d7a",
   "metadata": {},
   "outputs": [
    {
     "data": {
      "text/plain": [
       "[False, False, False, False, False, False, False, False, False]"
      ]
     },
     "execution_count": 2,
     "metadata": {},
     "output_type": "execute_result"
    }
   ],
   "source": [
    "text1_new_1= [w.isupper() for w in text1]\n",
    "text1_new_1"
   ]
  },
  {
   "cell_type": "markdown",
   "id": "aad4833b",
   "metadata": {},
   "source": [
    "Note: Here, eventhough the word \"The\" contains one uppercase letter, performing the test operation, \"w.isupper()\" gives the result \"False\" since its' ALL letters are NOT capitalized. \n",
    "\n",
    "In case of other words, ALL letters are lower- cased, which had NO chance in giving \"True\" output to the operation, \"w.isupper()\" ' anyway."
   ]
  },
  {
   "cell_type": "code",
   "execution_count": 3,
   "id": "a517f5af",
   "metadata": {},
   "outputs": [
    {
     "data": {
      "text/plain": [
       "[True, False, False, False, False, False, False, False, False]"
      ]
     },
     "execution_count": 3,
     "metadata": {},
     "output_type": "execute_result"
    }
   ],
   "source": [
    "text1_new_2= [not w.islower() for w in text1]\n",
    "text1_new_2"
   ]
  },
  {
   "cell_type": "markdown",
   "id": "5a6275c8",
   "metadata": {},
   "source": [
    "Note: Here, since the word \"The\" contains one (fulfills \"at least one uppercase letter\" condition) uppercase letter, performing the test operation,  \"w.islower()\" would give the result \"False\" (for it to be true, all the letters had to be lower- case), hence, \"not w.islower()\" gives the result \"True\" for the word.\n",
    "\n",
    "In case of other words, ALL letters are lower- cased, so,  performing the test operation, \"w.islower()\" would give the result \"True\", hence, \"not w.islower()\" gives the result \"False\" for all of them."
   ]
  },
  {
   "cell_type": "code",
   "execution_count": null,
   "id": "f3b6b908",
   "metadata": {},
   "outputs": [],
   "source": []
  },
  {
   "cell_type": "markdown",
   "id": "081116a2",
   "metadata": {},
   "source": [
    "CASE 2: There are few words in the word- list containing words with all- capital letters"
   ]
  },
  {
   "cell_type": "code",
   "execution_count": 4,
   "id": "bc108951",
   "metadata": {},
   "outputs": [],
   "source": [
    "text2= [\"THE\", \"quick\", \"brown\", \"FOX\", \"Jumps\", \"Over\", \"The\" ,\"Lazy\", \"Dog\"]"
   ]
  },
  {
   "cell_type": "markdown",
   "id": "f71a69aa",
   "metadata": {},
   "source": [
    "Note: Here, since the words \"THE\" and \"FOX\" contain all uppercase letters, performing the test operation, \"w.isupper()\", for these words, give the result \"True\" since their ALL letters are capitalized. \n",
    "\n",
    "In case of other words, ALL letters are lower- cased, which had NO chance in giving \"True\" output to the operation, \"w.isupper()\" ' anyway."
   ]
  },
  {
   "cell_type": "code",
   "execution_count": 5,
   "id": "4153b158",
   "metadata": {},
   "outputs": [
    {
     "data": {
      "text/plain": [
       "[True, False, False, True, False, False, False, False, False]"
      ]
     },
     "execution_count": 5,
     "metadata": {},
     "output_type": "execute_result"
    }
   ],
   "source": [
    "text2_new_1= [w.isupper() for w in text2]\n",
    "text2_new_1"
   ]
  },
  {
   "cell_type": "code",
   "execution_count": 6,
   "id": "5ea37088",
   "metadata": {},
   "outputs": [
    {
     "data": {
      "text/plain": [
       "[True, False, False, True, True, True, True, True, True]"
      ]
     },
     "execution_count": 6,
     "metadata": {},
     "output_type": "execute_result"
    }
   ],
   "source": [
    "text2_new_2= [not w.islower() for w in text2]\n",
    "text2_new_2"
   ]
  },
  {
   "cell_type": "markdown",
   "id": "acd84daf",
   "metadata": {},
   "source": [
    "Note: Here, since the words \"THE\" and \"FOX\" contain ALL and the words \"Jumps\",\"Over\",\"The\",\"Lazy\" and \"Dog\" contain one(all fulfill \"at least one uppercase letter\" condition) uppercase letter/s, performing the test operation,  \"w.islower()\" would give the result \"False\" (for it to be true, all the letters had to be lower- case), hence, \"not w.islower()\" gives the result \"True\" for the words.\n",
    "\n",
    "In case of other words, ALL letters are lower- cased, so,  performing the test operation, \"w.islower()\" would give the result \"True\", hence, \"not w.islower()\" gives the result \"False\" for all of them."
   ]
  },
  {
   "cell_type": "code",
   "execution_count": null,
   "id": "192de3f2",
   "metadata": {},
   "outputs": [],
   "source": []
  },
  {
   "cell_type": "markdown",
   "id": "c64fbef9",
   "metadata": {},
   "source": [
    "FINAL VERDICT:  w.isupper() is the test operation that stands \"True\" for only the words containing all letters in capital case and \"not w.islower()\" is the test operation that stands \"True\" for the words containing at least one capital letter in the each word. "
   ]
  },
  {
   "cell_type": "code",
   "execution_count": null,
   "id": "72b59ebe",
   "metadata": {},
   "outputs": [],
   "source": []
  }
 ],
 "metadata": {
  "kernelspec": {
   "display_name": "Python 3 (ipykernel)",
   "language": "python",
   "name": "python3"
  },
  "language_info": {
   "codemirror_mode": {
    "name": "ipython",
    "version": 3
   },
   "file_extension": ".py",
   "mimetype": "text/x-python",
   "name": "python",
   "nbconvert_exporter": "python",
   "pygments_lexer": "ipython3",
   "version": "3.9.12"
  }
 },
 "nbformat": 4,
 "nbformat_minor": 5
}
