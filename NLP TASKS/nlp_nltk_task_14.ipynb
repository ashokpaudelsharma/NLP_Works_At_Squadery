{
 "cells": [
  {
   "cell_type": "markdown",
   "id": "d981a42e",
   "metadata": {},
   "source": [
    "14. Define a function find_language() that takes a string as its argument, and returns a list of languages that have that string as a word. Use the udhr corpus and limit your searches to files in the Latin-1 encoding"
   ]
  },
  {
   "cell_type": "code",
   "execution_count": 1,
   "id": "563e206e",
   "metadata": {},
   "outputs": [],
   "source": [
    "import nltk\n",
    "from nltk.corpus import udhr"
   ]
  },
  {
   "cell_type": "code",
   "execution_count": 2,
   "id": "3dde9086",
   "metadata": {},
   "outputs": [],
   "source": [
    "word_list=udhr.words()"
   ]
  },
  {
   "cell_type": "code",
   "execution_count": 3,
   "id": "9e4f43e1",
   "metadata": {},
   "outputs": [],
   "source": [
    "import random"
   ]
  },
  {
   "cell_type": "code",
   "execution_count": 5,
   "id": "bb45ca08",
   "metadata": {},
   "outputs": [],
   "source": [
    "# Define a function find_language() that takes a string as its argument, and returns a list of languages that have that string as a word. Use the udhr corpus and limit your searches to files in the Latin-1 encoding.\n",
    "\n",
    "def find_language(string):\n",
    "    languages = []\n",
    "    target_languages = []\n",
    "\n",
    "    for name in nltk.corpus.udhr.fileids():\n",
    "        if 'Latin1' in name:\n",
    "            languages.append(name)\n",
    "    \n",
    "    #print(languages)\n",
    "    \n",
    "    for lang in languages:\n",
    "        if string in nltk.corpus.udhr.words(lang):\n",
    "            target_languages.append(lang)\n",
    "\n",
    "    return target_languages"
   ]
  },
  {
   "cell_type": "code",
   "execution_count": 11,
   "id": "b679fe4b",
   "metadata": {},
   "outputs": [
    {
     "data": {
      "text/plain": [
       "['Maori-Latin1']"
      ]
     },
     "execution_count": 11,
     "metadata": {},
     "output_type": "execute_result"
    }
   ],
   "source": [
    "#Find various words as desired\n",
    "\n",
    "#find_language('I')\n",
    "#find_language('world')\n",
    "find_language('He')"
   ]
  },
  {
   "cell_type": "code",
   "execution_count": null,
   "id": "12e1a2bb",
   "metadata": {},
   "outputs": [],
   "source": []
  }
 ],
 "metadata": {
  "kernelspec": {
   "display_name": "Python 3 (ipykernel)",
   "language": "python",
   "name": "python3"
  },
  "language_info": {
   "codemirror_mode": {
    "name": "ipython",
    "version": 3
   },
   "file_extension": ".py",
   "mimetype": "text/x-python",
   "name": "python",
   "nbconvert_exporter": "python",
   "pygments_lexer": "ipython3",
   "version": "3.9.12"
  }
 },
 "nbformat": 4,
 "nbformat_minor": 5
}
