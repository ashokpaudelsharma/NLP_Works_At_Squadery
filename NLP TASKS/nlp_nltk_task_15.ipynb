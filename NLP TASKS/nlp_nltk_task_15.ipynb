{
 "cells": [
  {
   "cell_type": "markdown",
   "id": "fd928efe",
   "metadata": {},
   "source": [
    "15. Define a string s = ‘colorless’. Write a python statement that changes this to “colourless” using only the slice and concatenation operations"
   ]
  },
  {
   "cell_type": "code",
   "execution_count": 10,
   "id": "70b1fb4d",
   "metadata": {},
   "outputs": [],
   "source": [
    "#Defining the test string\n",
    "test_str = 'colorless'\n",
    "\n",
    "updated_str = test_str[:4] + 'u' + test_str[4:]\n",
    "\n",
    "# Here the slicing [:4] is exclusive, since it defines the range of elements from the beginning until the index number 4\n",
    "# Here the slicing [4:] is inclusive, since it defines the range of elements from the index number 4 until the end"
   ]
  },
  {
   "cell_type": "code",
   "execution_count": 11,
   "id": "7e165455",
   "metadata": {},
   "outputs": [
    {
     "name": "stdout",
     "output_type": "stream",
     "text": [
      "colourless\n"
     ]
    }
   ],
   "source": [
    "print(updated_str)"
   ]
  },
  {
   "cell_type": "code",
   "execution_count": null,
   "id": "37b0a988",
   "metadata": {},
   "outputs": [],
   "source": []
  },
  {
   "cell_type": "code",
   "execution_count": null,
   "id": "f458e872",
   "metadata": {},
   "outputs": [],
   "source": []
  }
 ],
 "metadata": {
  "kernelspec": {
   "display_name": "Python 3 (ipykernel)",
   "language": "python",
   "name": "python3"
  },
  "language_info": {
   "codemirror_mode": {
    "name": "ipython",
    "version": 3
   },
   "file_extension": ".py",
   "mimetype": "text/x-python",
   "name": "python",
   "nbconvert_exporter": "python",
   "pygments_lexer": "ipython3",
   "version": "3.9.12"
  }
 },
 "nbformat": 4,
 "nbformat_minor": 5
}
