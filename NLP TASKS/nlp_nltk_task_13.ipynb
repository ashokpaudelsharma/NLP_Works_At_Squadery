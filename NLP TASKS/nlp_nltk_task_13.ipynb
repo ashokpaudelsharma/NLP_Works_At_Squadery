{
 "cells": [
  {
   "cell_type": "markdown",
   "id": "99219347",
   "metadata": {},
   "source": [
    "13.Zipf's Law: Let f(w) be the frequency of a word w in free text. Suppose that all the words of a text are ranked according to their frequency, with the most frequent word first. Zipf's law states that the frequency of a word type is inversely proportional to its rank (i.e. f × r = k, for some constant k). For example, the 50th most common word type should occur three times as frequently as the 150th most common word type.\n",
    "\n",
    "a. Write a function to process a large text and plot word frequency against word rank using pylab.plot. Do you confirm Zipf's law? (Hint: it helps to use a logarithmic scale). What is going on at the extreme ends of the plotted line?\n",
    "\n",
    "b. Generate random text, e.g., using random.choice(\"abcdefg \"), taking care to include the space character. You will need to import random first. Use the string concatenation operator to accumulate characters into a (very) long string. Then tokenize this string, and generate the Zipf plot as before, and compare the two plots. What do you make of Zipf's Law in light of this?\n"
   ]
  },
  {
   "cell_type": "code",
   "execution_count": 1,
   "id": "e11f7dbb",
   "metadata": {},
   "outputs": [],
   "source": [
    "import nltk, pylab, matplotlib, random\n",
    "import decimal\n",
    "from decimal import *"
   ]
  },
  {
   "cell_type": "code",
   "execution_count": 2,
   "id": "b07a9f7a",
   "metadata": {},
   "outputs": [],
   "source": [
    "#Defining the text to be considered\n",
    "original_text=\"Artificial Intelligence (AI) By JAKE FRANKENFIELD Updated March 08, 2021 Reviewed by GORDON SCOTT What Is Artificial Intelligence (AI)? Artificial intelligence (AI) refers to the simulation of human intelligence in machines that are programmed to think like humans and mimic their actions. The term may also be applied to any machine that exhibits traits associated with a human mind such as learning and problem-solving. The ideal characteristic of artificial intelligence is its ability to rationalize and take actions that have the best chance of achieving a specific goal. A subset of artificial intelligence is machine learning, which refers to the concept that computer programs can automatically learn from and adapt to new data without being assisted by humans. Deep learning techniques enable this automatic learning through the absorption of huge amounts of unstructured data such as text, images, or video. KEY TAKEAWAYS Artificial intelligence refers to the simulation of human intelligence in machines. The goals of artificial intelligence include learning, reasoning, and perception. AI is being used across different industries including finance and healthcare. Weak AI tends to be simple and single-task oriented, while strong AI carries on tasks that are more complex and human-like. What if you had started investing years ago? Find out what a hypothetical investment would be worth today. SELECT A STOCK TSLA TESLA INC AAPL APPLE INC NKE NIKE INC AMZN AMAZON.COM, INC WMT WALMART INC SELECT INVESTMENT AMOUNT $ 1,000 SELECT A PURCHASE DATE 5 years ago CALCULATE Understanding Artificial Intelligence (AI) When most people hear the term artificial intelligence, the first thing they usually think of is robots. That's because big-budget films and novels weave stories about human-like machines that wreak havoc on Earth. But nothing could be further from the truth. Artificial intelligence is based on the principle that human intelligence can be defined in a way that a machine can easily mimic it and execute tasks, from the most simple to those that are even more complex. The goals of artificial intelligence include mimicking human cognitive activity. Researchers and developers in the field are making surprisingly rapid strides in mimicking activities such as learning, reasoning, and perception, to the extent that these can be concretely defined. Some believe that innovators may soon be able to develop systems that exceed the capacity of humans to learn or reason out any subject. But others remain skeptical because all cognitive activity is laced with value judgments that are subject to human experience. As technology advances, previous benchmarks that defined artificial intelligence become outdated. For example, machines that calculate basic functions or recognize text through optical character recognition are no longer considered to embody artificial intelligence, since this function is now taken for granted as an inherent computer function. AI is continuously evolving to benefit many different industries. Machines are wired using a cross-disciplinary approach based on mathematics, computer science, linguistics, psychology, and more. Algorithms often play a very important part in the structure of artificial intelligence, where simple algorithms are used in simple applications, while more complex ones help frame strong artificial intelligence. Applications of Artificial Intelligence The applications for artificial intelligence are endless. The technology can be applied to many different sectors and industries. AI is being tested and used in the healthcare industry for dosing drugs and different treatment in patients, and for surgical procedures in the operating room. Other examples of machines with artificial intelligence include computers that play chess and self-driving cars. Each of these machines must weigh the consequences of any action they take, as each action will impact the end result. In chess, the end result is winning the game. For self-driving cars, the computer system must account for all external data and compute it to act in a way that prevents a collision. Artificial intelligence also has applications in the financial industry, where it is used to detect and flag activity in banking and finance such as unusual debit card usage and large account deposits—all of which help a bank's fraud department. Applications for AI are also being used to help streamline and make trading easier. This is done by making supply, demand, and pricing of securities easier to estimate. Categorization of Artificial Intelligence Artificial intelligence can be divided into two different categories: weak and strong. Weak artificial intelligence embodies a system designed to carry out one particular job. Weak AI systems include video games such as the chess example from above and personal assistants such as Amazon's Alexa and Apple's Siri. You ask the assistant a question, it answers it for you. Strong artificial intelligence systems are systems that carry on the tasks considered to be human-like. These tend to be more complex and complicated systems. They are programmed to handle situations in which they may be required to problem solve without having a person intervene. These kinds of systems can be found in applications like self-driving cars or in hospital operating rooms.\""
   ]
  },
  {
   "cell_type": "code",
   "execution_count": 3,
   "id": "a16f092d",
   "metadata": {},
   "outputs": [],
   "source": [
    "text= original_text.split()\n",
    "#print(text)"
   ]
  },
  {
   "cell_type": "code",
   "execution_count": 4,
   "id": "d6648a8a",
   "metadata": {},
   "outputs": [],
   "source": [
    "def freq_rank(text):\n",
    "    #Inputting all words in the \"text\" list into the \"FreqDist\" method of nltk module to initiate frequency distribution computation\n",
    "    fdist = nltk.FreqDist([word.lower() for word in text])\n",
    "    \n",
    "    keys = fdist.keys()\n",
    "\n",
    "    absolute_freq = []\n",
    "    absolute_rank = []\n",
    "    \n",
    "    freq = []\n",
    "    rank = []\n",
    "    \n",
    "    n = 1 # must start at 1 because log10(0) = infinity\n",
    "\n",
    "    for w in keys:\n",
    "        absolute_frequency = (fdist[w])\n",
    "        absolute_freq.append(absolute_frequency)\n",
    "\n",
    "        \n",
    "        #For logarithmic analysis\n",
    "        frequency = Decimal.logb(Decimal(fdist[w]))\n",
    "        freq.append(frequency)\n",
    "\n",
    "    for w in keys:\n",
    "        \n",
    "        absolute_rank.append(n)\n",
    "        \n",
    "        #For logarithmic analysis\n",
    "        rank.append(Decimal.logb(Decimal(n)))\n",
    "\n",
    "        n = n + 1\n",
    "    '''\n",
    "    print(absolute_rank)\n",
    "    print(absolute_freq)\n",
    "    \n",
    "    product=[] # for (absolute_rank*absolute_freq)\n",
    "\n",
    "    for i, j in zip(absolute_rank, absolute_freq):\n",
    "        product.append(i*j)\n",
    "        \n",
    "    print(product) #This is meant to come as consistently constant value\n",
    "    \n",
    "    '''\n",
    "    \n",
    "    #pylab.plot(absolute_rank, absolute_freq)\n",
    "    pylab.plot(rank, freq)\n",
    "      \n",
    "    return pylab.show()"
   ]
  },
  {
   "cell_type": "code",
   "execution_count": 5,
   "id": "68622c46",
   "metadata": {},
   "outputs": [
    {
     "data": {
      "image/png": "[encoded data removed]",
      "text/plain": [
       "<Figure size 432x288 with 1 Axes>"
      ]
     },
     "metadata": {
      "needs_background": "light"
     },
     "output_type": "display_data"
    }
   ],
   "source": [
    "freq_rank(text)"
   ]
  },
  {
   "cell_type": "code",
   "execution_count": 6,
   "id": "1f41f3ed",
   "metadata": {},
   "outputs": [],
   "source": [
    "def freq_rank_scramble(text):\n",
    "    n = 0\n",
    "    scrambled = ''\n",
    "    freq = []\n",
    "    rank = []\n",
    "\n",
    "    while n < len(text):\n",
    "        scrambled = scrambled + ' ' + random.choice(text)\n",
    "        n = n + 1\n",
    "    \n",
    "    #print(scrambled)\n",
    "    \n",
    "    #Split the scrambled string into list of the constituent words \n",
    "    new_scrambled = scrambled.split()\n",
    "\n",
    "    fdist = nltk.FreqDist([w.lower() for w in new_scrambled])\n",
    "    keys = fdist.keys()\n",
    "\n",
    "    n = 1\n",
    "    for w in keys:\n",
    "        frequency = Decimal.logb(Decimal(fdist[w]))\n",
    "        freq.append(frequency)\n",
    "        rank.append(Decimal.logb(Decimal(n)))\n",
    "        n = n + 1\n",
    "    \n",
    "    pylab.plot(rank, freq)\n",
    "    return pylab.show()"
   ]
  },
  {
   "cell_type": "code",
   "execution_count": 7,
   "id": "c5c5a12c",
   "metadata": {},
   "outputs": [
    {
     "data": {
      "image/png": "[encoded data removed]",
      "text/plain": [
       "<Figure size 432x288 with 1 Axes>"
      ]
     },
     "metadata": {
      "needs_background": "light"
     },
     "output_type": "display_data"
    }
   ],
   "source": [
    "freq_rank_scramble(text)"
   ]
  },
  {
   "cell_type": "code",
   "execution_count": null,
   "id": "3631eb5c",
   "metadata": {},
   "outputs": [],
   "source": []
  }
 ],
 "metadata": {
  "kernelspec": {
   "display_name": "Python 3 (ipykernel)",
   "language": "python",
   "name": "python3"
  },
  "language_info": {
   "codemirror_mode": {
    "name": "ipython",
    "version": 3
   },
   "file_extension": ".py",
   "mimetype": "text/x-python",
   "name": "python",
   "nbconvert_exporter": "python",
   "pygments_lexer": "ipython3",
   "version": "3.9.12"
  }
 },
 "nbformat": 4,
 "nbformat_minor": 5
}
