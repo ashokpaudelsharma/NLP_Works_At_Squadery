{
 "cells": [
  {
   "cell_type": "markdown",
   "id": "33340b58",
   "metadata": {},
   "source": [
    "17.  Describe the class of strings matched by the following regular expressions. Test your answer using nltk.re_show().\n",
    "\n",
    "a.[a-zA-Z]+\n",
    "\n",
    "b.[A-Z][a-z]*\n",
    "\n",
    "c.p[aeiou]{,2}t\n",
    "\n",
    "d.\\d+(\\.\\d+)?\n",
    "\n",
    "e.([^aeiou][aeiou][^aeiou])*\n",
    "\n",
    "f.\\w+|[^\\w\\s]+\n"
   ]
  },
  {
   "cell_type": "code",
   "execution_count": 1,
   "id": "a6410009",
   "metadata": {},
   "outputs": [],
   "source": [
    "import nltk"
   ]
  },
  {
   "cell_type": "code",
   "execution_count": 2,
   "id": "7266587e",
   "metadata": {},
   "outputs": [],
   "source": [
    "#Defining the text to be considered\n",
    "\n",
    "text=\"Artificial Intelligence (AI) By JAKE FRANKENFIELD Updated March 08, 2021 Reviewed by GORDON SCOTT What Is Artificial Intelligence (AI)? Artificial intelligence (AI) refers to the simulation of human intelligence in machines that are programmed to think like humans and mimic their actions. The term may also be applied to any machine that exhibits traits associated with a human mind such as learning and problem-solving. The ideal characteristic of artificial intelligence is its ability to rationalize and take actions that have the best chance of achieving a specific goal. A subset of artificial intelligence is machine learning, which refers to the concept that computer programs can automatically learn from and adapt to new data without being assisted by humans. Deep learning techniques enable this automatic learning through the absorption of huge amounts of unstructured data such as text, images, or video. KEY TAKEAWAYS Artificial intelligence refers to the simulation of human intelligence in machines. The goals of artificial intelligence include learning, reasoning, and perception. AI is being used across different industries including finance and healthcare. Weak AI tends to be simple and single-task oriented, while strong AI carries on tasks that are more complex and human-like. What if you had started investing years ago? Find out what a hypothetical investment would be worth today. SELECT A STOCK TSLA TESLA INC AAPL APPLE INC NKE NIKE INC AMZN AMAZON.COM, INC WMT WALMART INC SELECT INVESTMENT AMOUNT $ 1,000 SELECT A PURCHASE DATE 5 years ago CALCULATE Understanding Artificial Intelligence (AI) When most people hear the term artificial intelligence, the first thing they usually think of is robots. That's because big-budget films and novels weave stories about human-like machines that wreak havoc on Earth. But nothing could be further from the truth. Artificial intelligence is based on the principle that human intelligence can be defined in a way that a machine can easily mimic it and execute tasks, from the most simple to those that are even more complex. The goals of artificial intelligence include mimicking human cognitive activity. Researchers and developers in the field are making surprisingly rapid strides in mimicking activities such as learning, reasoning, and perception, to the extent that these can be concretely defined. Some believe that innovators may soon be able to develop systems that exceed the capacity of humans to learn or reason out any subject. But others remain skeptical because all cognitive activity is laced with value judgments that are subject to human experience. As technology advances, previous benchmarks that defined artificial intelligence become outdated. For example, machines that calculate basic functions or recognize text through optical character recognition are no longer considered to embody artificial intelligence, since this function is now taken for granted as an inherent computer function. AI is continuously evolving to benefit many different industries. Machines are wired using a cross-disciplinary approach based on mathematics, computer science, linguistics, psychology, and more. Algorithms often play a very important part in the structure of artificial intelligence, where simple algorithms are used in simple applications, while more complex ones help frame strong artificial intelligence. Applications of Artificial Intelligence The applications for artificial intelligence are endless. The technology can be applied to many different sectors and industries. AI is being tested and used in the healthcare industry for dosing drugs and different treatment in patients, and for surgical procedures in the operating room. Other examples of machines with artificial intelligence include computers that play chess and self-driving cars. Each of these machines must weigh the consequences of any action they take, as each action will impact the end result. In chess, the end result is winning the game. For self-driving cars, the computer system must account for all external data and compute it to act in a way that prevents a collision. Artificial intelligence also has applications in the financial industry, where it is used to detect and flag activity in banking and finance such as unusual debit card usage and large account deposits—all of which help a bank's fraud department. Applications for AI are also being used to help streamline and make trading easier. This is done by making supply, demand, and pricing of securities easier to estimate. Categorization of Artificial Intelligence Artificial intelligence can be divided into two different categories: weak and strong. Weak artificial intelligence embodies a system designed to carry out one particular job. Weak AI systems include video games such as the chess example from above and personal assistants such as Amazon's Alexa and Apple's Siri. You ask the assistant a question, it answers it for you. Strong artificial intelligence systems are systems that carry on the tasks considered to be human-like. These tend to be more complex and complicated systems. They are programmed to handle situations in which they may be required to problem solve without having a person intervene. These kinds of systems can be found in applications like self-driving cars or in hospital operating rooms.\""
   ]
  },
  {
   "cell_type": "code",
   "execution_count": 3,
   "id": "83535598",
   "metadata": {},
   "outputs": [
    {
     "name": "stdout",
     "output_type": "stream",
     "text": [
      "The expression, [a-zA-Z]+ denotes:\n",
      "All the matches for lowercase and uppercase letters being present once or more\n"
     ]
    }
   ],
   "source": [
    "print(\"The expression, [a-zA-Z]+ denotes:\")\n",
    "print(\"All the matches for lowercase and uppercase letters being present once or more\")"
   ]
  },
  {
   "cell_type": "code",
   "execution_count": 4,
   "id": "5330574e",
   "metadata": {},
   "outputs": [
    {
     "name": "stdout",
     "output_type": "stream",
     "text": [
      "{Artificial} {Intelligence} ({AI}) {By} {JAKE} {FRANKENFIELD} {Updated} {March} 08, 2021 {Reviewed} {by} {GORDON} {SCOTT} {What} {Is} {Artificial} {Intelligence} ({AI})? {Artificial} {intelligence} ({AI}) {refers} {to} {the} {simulation} {of} {human} {intelligence} {in} {machines} {that} {are} {programmed} {to} {think} {like} {humans} {and} {mimic} {their} {actions}. {The} {term} {may} {also} {be} {applied} {to} {any} {machine} {that} {exhibits} {traits} {associated} {with} {a} {human} {mind} {such} {as} {learning} {and} {problem}-{solving}. {The} {ideal} {characteristic} {of} {artificial} {intelligence} {is} {its} {ability} {to} {rationalize} {and} {take} {actions} {that} {have} {the} {best} {chance} {of} {achieving} {a} {specific} {goal}. {A} {subset} {of} {artificial} {intelligence} {is} {machine} {learning}, {which} {refers} {to} {the} {concept} {that} {computer} {programs} {can} {automatically} {learn} {from} {and} {adapt} {to} {new} {data} {without} {being} {assisted} {by} {humans}. {Deep} {learning} {techniques} {enable} {this} {automatic} {learning} {through} {the} {absorption} {of} {huge} {amounts} {of} {unstructured} {data} {such} {as} {text}, {images}, {or} {video}. {KEY} {TAKEAWAYS} {Artificial} {intelligence} {refers} {to} {the} {simulation} {of} {human} {intelligence} {in} {machines}. {The} {goals} {of} {artificial} {intelligence} {include} {learning}, {reasoning}, {and} {perception}. {AI} {is} {being} {used} {across} {different} {industries} {including} {finance} {and} {healthcare}. {Weak} {AI} {tends} {to} {be} {simple} {and} {single}-{task} {oriented}, {while} {strong} {AI} {carries} {on} {tasks} {that} {are} {more} {complex} {and} {human}-{like}. {What} {if} {you} {had} {started} {investing} {years} {ago}? {Find} {out} {what} {a} {hypothetical} {investment} {would} {be} {worth} {today}. {SELECT} {A} {STOCK} {TSLA} {TESLA} {INC} {AAPL} {APPLE} {INC} {NKE} {NIKE} {INC} {AMZN} {AMAZON}.{COM}, {INC} {WMT} {WALMART} {INC} {SELECT} {INVESTMENT} {AMOUNT} $ 1,000 {SELECT} {A} {PURCHASE} {DATE} 5 {years} {ago} {CALCULATE} {Understanding} {Artificial} {Intelligence} ({AI}) {When} {most} {people} {hear} {the} {term} {artificial} {intelligence}, {the} {first} {thing} {they} {usually} {think} {of} {is} {robots}. {That}'{s} {because} {big}-{budget} {films} {and} {novels} {weave} {stories} {about} {human}-{like} {machines} {that} {wreak} {havoc} {on} {Earth}. {But} {nothing} {could} {be} {further} {from} {the} {truth}. {Artificial} {intelligence} {is} {based} {on} {the} {principle} {that} {human} {intelligence} {can} {be} {defined} {in} {a} {way} {that} {a} {machine} {can} {easily} {mimic} {it} {and} {execute} {tasks}, {from} {the} {most} {simple} {to} {those} {that} {are} {even} {more} {complex}. {The} {goals} {of} {artificial} {intelligence} {include} {mimicking} {human} {cognitive} {activity}. {Researchers} {and} {developers} {in} {the} {field} {are} {making} {surprisingly} {rapid} {strides} {in} {mimicking} {activities} {such} {as} {learning}, {reasoning}, {and} {perception}, {to} {the} {extent} {that} {these} {can} {be} {concretely} {defined}. {Some} {believe} {that} {innovators} {may} {soon} {be} {able} {to} {develop} {systems} {that} {exceed} {the} {capacity} {of} {humans} {to} {learn} {or} {reason} {out} {any} {subject}. {But} {others} {remain} {skeptical} {because} {all} {cognitive} {activity} {is} {laced} {with} {value} {judgments} {that} {are} {subject} {to} {human} {experience}. {As} {technology} {advances}, {previous} {benchmarks} {that} {defined} {artificial} {intelligence} {become} {outdated}. {For} {example}, {machines} {that} {calculate} {basic} {functions} {or} {recognize} {text} {through} {optical} {character} {recognition} {are} {no} {longer} {considered} {to} {embody} {artificial} {intelligence}, {since} {this} {function} {is} {now} {taken} {for} {granted} {as} {an} {inherent} {computer} {function}. {AI} {is} {continuously} {evolving} {to} {benefit} {many} {different} {industries}. {Machines} {are} {wired} {using} {a} {cross}-{disciplinary} {approach} {based} {on} {mathematics}, {computer} {science}, {linguistics}, {psychology}, {and} {more}. {Algorithms} {often} {play} {a} {very} {important} {part} {in} {the} {structure} {of} {artificial} {intelligence}, {where} {simple} {algorithms} {are} {used} {in} {simple} {applications}, {while} {more} {complex} {ones} {help} {frame} {strong} {artificial} {intelligence}. {Applications} {of} {Artificial} {Intelligence} {The} {applications} {for} {artificial} {intelligence} {are} {endless}. {The} {technology} {can} {be} {applied} {to} {many} {different} {sectors} {and} {industries}. {AI} {is} {being} {tested} {and} {used} {in} {the} {healthcare} {industry} {for} {dosing} {drugs} {and} {different} {treatment} {in} {patients}, {and} {for} {surgical} {procedures} {in} {the} {operating} {room}. {Other} {examples} {of} {machines} {with} {artificial} {intelligence} {include} {computers} {that} {play} {chess} {and} {self}-{driving} {cars}. {Each} {of} {these} {machines} {must} {weigh} {the} {consequences} {of} {any} {action} {they} {take}, {as} {each} {action} {will} {impact} {the} {end} {result}. {In} {chess}, {the} {end} {result} {is} {winning} {the} {game}. {For} {self}-{driving} {cars}, {the} {computer} {system} {must} {account} {for} {all} {external} {data} {and} {compute} {it} {to} {act} {in} {a} {way} {that} {prevents} {a} {collision}. {Artificial} {intelligence} {also} {has} {applications} {in} {the} {financial} {industry}, {where} {it} {is} {used} {to} {detect} {and} {flag} {activity} {in} {banking} {and} {finance} {such} {as} {unusual} {debit} {card} {usage} {and} {large} {account} {deposits}—{all} {of} {which} {help} {a} {bank}'{s} {fraud} {department}. {Applications} {for} {AI} {are} {also} {being} {used} {to} {help} {streamline} {and} {make} {trading} {easier}. {This} {is} {done} {by} {making} {supply}, {demand}, {and} {pricing} {of} {securities} {easier} {to} {estimate}. {Categorization} {of} {Artificial} {Intelligence} {Artificial} {intelligence} {can} {be} {divided} {into} {two} {different} {categories}: {weak} {and} {strong}. {Weak} {artificial} {intelligence} {embodies} {a} {system} {designed} {to} {carry} {out} {one} {particular} {job}. {Weak} {AI} {systems} {include} {video} {games} {such} {as} {the} {chess} {example} {from} {above} {and} {personal} {assistants} {such} {as} {Amazon}'{s} {Alexa} {and} {Apple}'{s} {Siri}. {You} {ask} {the} {assistant} {a} {question}, {it} {answers} {it} {for} {you}. {Strong} {artificial} {intelligence} {systems} {are} {systems} {that} {carry} {on} {the} {tasks} {considered} {to} {be} {human}-{like}. {These} {tend} {to} {be} {more} {complex} {and} {complicated} {systems}. {They} {are} {programmed} {to} {handle} {situations} {in} {which} {they} {may} {be} {required} {to} {problem} {solve} {without} {having} {a} {person} {intervene}. {These} {kinds} {of} {systems} {can} {be} {found} {in} {applications} {like} {self}-{driving} {cars} {or} {in} {hospital} {operating} {rooms}.\n"
     ]
    }
   ],
   "source": [
    "nltk.re_show(\"[a-zA-Z]+\", text)"
   ]
  },
  {
   "cell_type": "code",
   "execution_count": 5,
   "id": "885453bc",
   "metadata": {},
   "outputs": [
    {
     "name": "stdout",
     "output_type": "stream",
     "text": [
      "The expression, [A-Z][a-z]* denotes:\n",
      "All the matches for exactly one uppercase letter followed by zero or more lowercase letters being present\n"
     ]
    }
   ],
   "source": [
    "print(\"The expression, [A-Z][a-z]* denotes:\")\n",
    "print(\"All the matches for exactly one uppercase letter followed by zero or more lowercase letters being present\")"
   ]
  },
  {
   "cell_type": "code",
   "execution_count": 6,
   "id": "ef16aeb4",
   "metadata": {},
   "outputs": [
    {
     "name": "stdout",
     "output_type": "stream",
     "text": [
      "{Artificial} {Intelligence} ({A}{I}) {By} {J}{A}{K}{E} {F}{R}{A}{N}{K}{E}{N}{F}{I}{E}{L}{D} {Updated} {March} 08, 2021 {Reviewed} by {G}{O}{R}{D}{O}{N} {S}{C}{O}{T}{T} {What} {Is} {Artificial} {Intelligence} ({A}{I})? {Artificial} intelligence ({A}{I}) refers to the simulation of human intelligence in machines that are programmed to think like humans and mimic their actions. {The} term may also be applied to any machine that exhibits traits associated with a human mind such as learning and problem-solving. {The} ideal characteristic of artificial intelligence is its ability to rationalize and take actions that have the best chance of achieving a specific goal. {A} subset of artificial intelligence is machine learning, which refers to the concept that computer programs can automatically learn from and adapt to new data without being assisted by humans. {Deep} learning techniques enable this automatic learning through the absorption of huge amounts of unstructured data such as text, images, or video. {K}{E}{Y} {T}{A}{K}{E}{A}{W}{A}{Y}{S} {Artificial} intelligence refers to the simulation of human intelligence in machines. {The} goals of artificial intelligence include learning, reasoning, and perception. {A}{I} is being used across different industries including finance and healthcare. {Weak} {A}{I} tends to be simple and single-task oriented, while strong {A}{I} carries on tasks that are more complex and human-like. {What} if you had started investing years ago? {Find} out what a hypothetical investment would be worth today. {S}{E}{L}{E}{C}{T} {A} {S}{T}{O}{C}{K} {T}{S}{L}{A} {T}{E}{S}{L}{A} {I}{N}{C} {A}{A}{P}{L} {A}{P}{P}{L}{E} {I}{N}{C} {N}{K}{E} {N}{I}{K}{E} {I}{N}{C} {A}{M}{Z}{N} {A}{M}{A}{Z}{O}{N}.{C}{O}{M}, {I}{N}{C} {W}{M}{T} {W}{A}{L}{M}{A}{R}{T} {I}{N}{C} {S}{E}{L}{E}{C}{T} {I}{N}{V}{E}{S}{T}{M}{E}{N}{T} {A}{M}{O}{U}{N}{T} $ 1,000 {S}{E}{L}{E}{C}{T} {A} {P}{U}{R}{C}{H}{A}{S}{E} {D}{A}{T}{E} 5 years ago {C}{A}{L}{C}{U}{L}{A}{T}{E} {Understanding} {Artificial} {Intelligence} ({A}{I}) {When} most people hear the term artificial intelligence, the first thing they usually think of is robots. {That}'s because big-budget films and novels weave stories about human-like machines that wreak havoc on {Earth}. {But} nothing could be further from the truth. {Artificial} intelligence is based on the principle that human intelligence can be defined in a way that a machine can easily mimic it and execute tasks, from the most simple to those that are even more complex. {The} goals of artificial intelligence include mimicking human cognitive activity. {Researchers} and developers in the field are making surprisingly rapid strides in mimicking activities such as learning, reasoning, and perception, to the extent that these can be concretely defined. {Some} believe that innovators may soon be able to develop systems that exceed the capacity of humans to learn or reason out any subject. {But} others remain skeptical because all cognitive activity is laced with value judgments that are subject to human experience. {As} technology advances, previous benchmarks that defined artificial intelligence become outdated. {For} example, machines that calculate basic functions or recognize text through optical character recognition are no longer considered to embody artificial intelligence, since this function is now taken for granted as an inherent computer function. {A}{I} is continuously evolving to benefit many different industries. {Machines} are wired using a cross-disciplinary approach based on mathematics, computer science, linguistics, psychology, and more. {Algorithms} often play a very important part in the structure of artificial intelligence, where simple algorithms are used in simple applications, while more complex ones help frame strong artificial intelligence. {Applications} of {Artificial} {Intelligence} {The} applications for artificial intelligence are endless. {The} technology can be applied to many different sectors and industries. {A}{I} is being tested and used in the healthcare industry for dosing drugs and different treatment in patients, and for surgical procedures in the operating room. {Other} examples of machines with artificial intelligence include computers that play chess and self-driving cars. {Each} of these machines must weigh the consequences of any action they take, as each action will impact the end result. {In} chess, the end result is winning the game. {For} self-driving cars, the computer system must account for all external data and compute it to act in a way that prevents a collision. {Artificial} intelligence also has applications in the financial industry, where it is used to detect and flag activity in banking and finance such as unusual debit card usage and large account deposits—all of which help a bank's fraud department. {Applications} for {A}{I} are also being used to help streamline and make trading easier. {This} is done by making supply, demand, and pricing of securities easier to estimate. {Categorization} of {Artificial} {Intelligence} {Artificial} intelligence can be divided into two different categories: weak and strong. {Weak} artificial intelligence embodies a system designed to carry out one particular job. {Weak} {A}{I} systems include video games such as the chess example from above and personal assistants such as {Amazon}'s {Alexa} and {Apple}'s {Siri}. {You} ask the assistant a question, it answers it for you. {Strong} artificial intelligence systems are systems that carry on the tasks considered to be human-like. {These} tend to be more complex and complicated systems. {They} are programmed to handle situations in which they may be required to problem solve without having a person intervene. {These} kinds of systems can be found in applications like self-driving cars or in hospital operating rooms.\n"
     ]
    }
   ],
   "source": [
    "nltk.re_show(\"[A-Z][a-z]*\", text)"
   ]
  },
  {
   "cell_type": "code",
   "execution_count": 7,
   "id": "8b592a5d",
   "metadata": {},
   "outputs": [
    {
     "name": "stdout",
     "output_type": "stream",
     "text": [
      "The expression, p[aeiou]{,2}t denotes:\n",
      "All the matches for pattern: the letter p followed by upto two vowels followed by t\n"
     ]
    }
   ],
   "source": [
    "print(\"The expression, p[aeiou]{,2}t denotes:\")\n",
    "print(\"All the matches for pattern: the letter p followed by upto two vowels followed by t\")"
   ]
  },
  {
   "cell_type": "code",
   "execution_count": 8,
   "id": "fe04f311",
   "metadata": {},
   "outputs": [
    {
     "name": "stdout",
     "output_type": "stream",
     "text": [
      "Artificial Intelligence (AI) By JAKE FRANKENFIELD Updated March 08, 2021 Reviewed by GORDON SCOTT What Is Artificial Intelligence (AI)? Artificial intelligence (AI) refers to the simulation of human intelligence in machines that are programmed to think like humans and mimic their actions. The term may also be applied to any machine that exhibits traits associated with a human mind such as learning and problem-solving. The ideal characteristic of artificial intelligence is its ability to rationalize and take actions that have the best chance of achieving a specific goal. A subset of artificial intelligence is machine learning, which refers to the conce{pt} that com{put}er programs can automatically learn from and ada{pt} to new data without being assisted by humans. Deep learning techniques enable this automatic learning through the absor{pt}ion of huge amounts of unstructured data such as text, images, or video. KEY TAKEAWAYS Artificial intelligence refers to the simulation of human intelligence in machines. The goals of artificial intelligence include learning, reasoning, and perce{pt}ion. AI is being used across different industries including finance and healthcare. Weak AI tends to be simple and single-task oriented, while strong AI carries on tasks that are more complex and human-like. What if you had started investing years ago? Find out what a hy{pot}hetical investment would be worth today. SELECT A STOCK TSLA TESLA INC AAPL APPLE INC NKE NIKE INC AMZN AMAZON.COM, INC WMT WALMART INC SELECT INVESTMENT AMOUNT $ 1,000 SELECT A PURCHASE DATE 5 years ago CALCULATE Understanding Artificial Intelligence (AI) When most people hear the term artificial intelligence, the first thing they usually think of is robots. That's because big-budget films and novels weave stories about human-like machines that wreak havoc on Earth. But nothing could be further from the truth. Artificial intelligence is based on the principle that human intelligence can be defined in a way that a machine can easily mimic it and execute tasks, from the most simple to those that are even more complex. The goals of artificial intelligence include mimicking human cognitive activity. Researchers and developers in the field are making surprisingly rapid strides in mimicking activities such as learning, reasoning, and perce{pt}ion, to the extent that these can be concretely defined. Some believe that innovators may soon be able to develop systems that exceed the capacity of humans to learn or reason out any subject. But others remain ske{pt}ical because all cognitive activity is laced with value judgments that are subject to human experience. As technology advances, previous benchmarks that defined artificial intelligence become outdated. For example, machines that calculate basic functions or recognize text through o{pt}ical character recognition are no longer considered to embody artificial intelligence, since this function is now taken for granted as an inherent com{put}er function. AI is continuously evolving to benefit many different industries. Machines are wired using a cross-disciplinary approach based on mathematics, com{put}er science, linguistics, psychology, and more. Algorithms often play a very important part in the structure of artificial intelligence, where simple algorithms are used in simple applications, while more complex ones help frame strong artificial intelligence. Applications of Artificial Intelligence The applications for artificial intelligence are endless. The technology can be applied to many different sectors and industries. AI is being tested and used in the healthcare industry for dosing drugs and different treatment in {pat}ients, and for surgical procedures in the operating room. Other examples of machines with artificial intelligence include com{put}ers that play chess and self-driving cars. Each of these machines must weigh the consequences of any action they take, as each action will impact the end result. In chess, the end result is winning the game. For self-driving cars, the com{put}er system must account for all external data and com{put}e it to act in a way that prevents a collision. Artificial intelligence also has applications in the financial industry, where it is used to detect and flag activity in banking and finance such as unusual debit card usage and large account deposits—all of which help a bank's fraud department. Applications for AI are also being used to help streamline and make trading easier. This is done by making supply, demand, and pricing of securities easier to estimate. Categorization of Artificial Intelligence Artificial intelligence can be divided into two different categories: weak and strong. Weak artificial intelligence embodies a system designed to carry out one particular job. Weak AI systems include video games such as the chess example from above and personal assistants such as Amazon's Alexa and Apple's Siri. You ask the assistant a question, it answers it for you. Strong artificial intelligence systems are systems that carry on the tasks considered to be human-like. These tend to be more complex and complicated systems. They are programmed to handle situations in which they may be required to problem solve without having a person intervene. These kinds of systems can be found in applications like self-driving cars or in hos{pit}al operating rooms.\n"
     ]
    }
   ],
   "source": [
    "nltk.re_show(\"p[aeiou]{,2}t\", text)"
   ]
  },
  {
   "cell_type": "code",
   "execution_count": 9,
   "id": "f07ad2dd",
   "metadata": {},
   "outputs": [
    {
     "name": "stdout",
     "output_type": "stream",
     "text": [
      "The expression, \\d+(\\.\\d+)? denotes:\n",
      "All the matches for pattern: one or more digit followed by an (optional) period followed (optionally) by one or more digit\n"
     ]
    }
   ],
   "source": [
    "print(\"The expression, \\d+(\\.\\d+)? denotes:\")\n",
    "print(\"All the matches for pattern: one or more digit followed by an (optional) period followed (optionally) by one or more digit\")"
   ]
  },
  {
   "cell_type": "code",
   "execution_count": 10,
   "id": "1aa9c035",
   "metadata": {},
   "outputs": [
    {
     "name": "stdout",
     "output_type": "stream",
     "text": [
      "Artificial Intelligence (AI) By JAKE FRANKENFIELD Updated March {08}, {2021} Reviewed by GORDON SCOTT What Is Artificial Intelligence (AI)? Artificial intelligence (AI) refers to the simulation of human intelligence in machines that are programmed to think like humans and mimic their actions. The term may also be applied to any machine that exhibits traits associated with a human mind such as learning and problem-solving. The ideal characteristic of artificial intelligence is its ability to rationalize and take actions that have the best chance of achieving a specific goal. A subset of artificial intelligence is machine learning, which refers to the concept that computer programs can automatically learn from and adapt to new data without being assisted by humans. Deep learning techniques enable this automatic learning through the absorption of huge amounts of unstructured data such as text, images, or video. KEY TAKEAWAYS Artificial intelligence refers to the simulation of human intelligence in machines. The goals of artificial intelligence include learning, reasoning, and perception. AI is being used across different industries including finance and healthcare. Weak AI tends to be simple and single-task oriented, while strong AI carries on tasks that are more complex and human-like. What if you had started investing years ago? Find out what a hypothetical investment would be worth today. SELECT A STOCK TSLA TESLA INC AAPL APPLE INC NKE NIKE INC AMZN AMAZON.COM, INC WMT WALMART INC SELECT INVESTMENT AMOUNT $ {1},{000} SELECT A PURCHASE DATE {5} years ago CALCULATE Understanding Artificial Intelligence (AI) When most people hear the term artificial intelligence, the first thing they usually think of is robots. That's because big-budget films and novels weave stories about human-like machines that wreak havoc on Earth. But nothing could be further from the truth. Artificial intelligence is based on the principle that human intelligence can be defined in a way that a machine can easily mimic it and execute tasks, from the most simple to those that are even more complex. The goals of artificial intelligence include mimicking human cognitive activity. Researchers and developers in the field are making surprisingly rapid strides in mimicking activities such as learning, reasoning, and perception, to the extent that these can be concretely defined. Some believe that innovators may soon be able to develop systems that exceed the capacity of humans to learn or reason out any subject. But others remain skeptical because all cognitive activity is laced with value judgments that are subject to human experience. As technology advances, previous benchmarks that defined artificial intelligence become outdated. For example, machines that calculate basic functions or recognize text through optical character recognition are no longer considered to embody artificial intelligence, since this function is now taken for granted as an inherent computer function. AI is continuously evolving to benefit many different industries. Machines are wired using a cross-disciplinary approach based on mathematics, computer science, linguistics, psychology, and more. Algorithms often play a very important part in the structure of artificial intelligence, where simple algorithms are used in simple applications, while more complex ones help frame strong artificial intelligence. Applications of Artificial Intelligence The applications for artificial intelligence are endless. The technology can be applied to many different sectors and industries. AI is being tested and used in the healthcare industry for dosing drugs and different treatment in patients, and for surgical procedures in the operating room. Other examples of machines with artificial intelligence include computers that play chess and self-driving cars. Each of these machines must weigh the consequences of any action they take, as each action will impact the end result. In chess, the end result is winning the game. For self-driving cars, the computer system must account for all external data and compute it to act in a way that prevents a collision. Artificial intelligence also has applications in the financial industry, where it is used to detect and flag activity in banking and finance such as unusual debit card usage and large account deposits—all of which help a bank's fraud department. Applications for AI are also being used to help streamline and make trading easier. This is done by making supply, demand, and pricing of securities easier to estimate. Categorization of Artificial Intelligence Artificial intelligence can be divided into two different categories: weak and strong. Weak artificial intelligence embodies a system designed to carry out one particular job. Weak AI systems include video games such as the chess example from above and personal assistants such as Amazon's Alexa and Apple's Siri. You ask the assistant a question, it answers it for you. Strong artificial intelligence systems are systems that carry on the tasks considered to be human-like. These tend to be more complex and complicated systems. They are programmed to handle situations in which they may be required to problem solve without having a person intervene. These kinds of systems can be found in applications like self-driving cars or in hospital operating rooms.\n"
     ]
    }
   ],
   "source": [
    "nltk.re_show(\"\\d+(\\.\\d+)?\", text)"
   ]
  },
  {
   "cell_type": "code",
   "execution_count": 11,
   "id": "5f335c23",
   "metadata": {},
   "outputs": [
    {
     "name": "stdout",
     "output_type": "stream",
     "text": [
      "The expression, ([^aeiou][aeiou][^aeiou])* denotes:\n",
      "All the matches for pattern: the combination of 'non-vowel character followed by a vowel followed by a non- vowel character' being present zero or more times\n"
     ]
    }
   ],
   "source": [
    "print(\"The expression, ([^aeiou][aeiou][^aeiou])* denotes:\")\n",
    "print(\"All the matches for pattern: the combination of 'non-vowel character followed by a vowel followed by a non- vowel character' being present zero or more times\")"
   ]
  },
  {
   "cell_type": "code",
   "execution_count": 12,
   "id": "6df4ca9b",
   "metadata": {},
   "outputs": [
    {
     "name": "stdout",
     "output_type": "stream",
     "text": [
      "Artificial{ }Intelligence{ }(AI){ }By{ }JAKE{ }FRANKENFIELD{ }Upda{ted }March{ }08,{ }2021{ }Revie{wed }by{ }GORDON{ }SCOTT{ }W{hat }Is{ }Artificial{ }Intelligence{ }(AI)?{ }Artificial{ }intelligence{ }(AI){ }refers{ }to{ }the{ }simulation{ of }hu{man }intelligence{ in }machi{nes }t{hat }are{ }p{rogrammed }to{ }think{ }like{ }humans{ }and{ }mi{mic }their{ }actions.{ }The{ }term{ }{may }also{ }be{ }applied{ }to{ }any{ }machine{ }t{hat }exhibits{ }traits{ }associa{ted }with{ }a{ }hu{man }mind{ }such{ as }learning{ }and{ }problem-solving.{ }The{ }ideal{ }characte{ristic of }artificial{ }intelligence{ is }its{ }ability{ }to{ }rationalize{ }and{ }take{ }actions{ }t{hat }have{ }the{ }best{ }chance{ of }achieving{ }a{ }speci{fic }goal.{ }A{ }{subset of }artificial{ }intelligence{ is }machine{ }learning,{ }which{ }refers{ }to{ }the{ }concept{ }t{hat }compu{ter }programs{ }{can }automatically{ }learn{ }f{rom }and{ }adapt{ }{to new }data{ }without{ }being{ assisted }by{ }humans.{ }Deep{ }learning{ }techniques{ }enable{ }t{his }automa{tic }learning{ }through{ }the{ }absorption{ of }huge{ }amounts{ of }unstructu{red }data{ }such{ as }text,{ }images,{ or }video.{ }KEY{ }TAKEAWAYS{ }Artificial{ }intelligence{ }refers{ }to{ }the{ }simulation{ of }hu{man }intelligence{ in }machines.{ }The{ }goals{ of }artificial{ }intelligence{ }include{ }learning,{ }reasoning,{ }and{ }perception.{ }AI{ is }being{ }u{sed }across{ }different{ }industries{ }including{ }finance{ }and{ }healthca{re. }Weak{ }AI{ }tends{ }to{ }be{ }simple{ }and{ }single-task{ }oriented,{ }while{ }strong{ }AI{ }carries{ on }tasks{ }t{hat }are{ }more{ }comp{lex }and{ }human-li{ke. }W{hat if }you{ }{had }s{tarted }investing{ }years{ }a{go? }Find{ }out{ }w{hat }a{ }hypotheti{cal }investment{ }would{ }be{ }worth{ }today.{ }SELECT{ }A{ }STOCK{ }TSLA{ }TESLA{ }INC{ }AAPL{ }APPLE{ }INC{ }NKE{ }NIKE{ }INC{ }AMZN{ }AMAZON.COM,{ }INC{ }WMT{ }WALMART{ }INC{ }SELECT{ }INVESTMENT{ }AMOUNT{ }${ }1,000{ }SELECT{ }A{ }PURCHASE{ }DATE{ }5{ }years{ }ago{ }CALCULATE{ }Understanding{ }Artificial{ }Intelligence{ }(AI){ }W{hen }most{ }people{ }hear{ }the{ }term{ }artificial{ }intelli{gence, }the{ }first{ }thing{ }t{hey }usually{ }think{ of is }robots.{ }That's{ }because{ }big-{budget }films{ }and{ }novels{ }weave{ }stories{ }about{ }human-like{ }machi{nes }t{hat }wreak{ }ha{voc on }Earth.{ }{But }nothing{ }could{ }be{ }furt{her }f{rom }the{ }truth.{ }Artificial{ }intelligence{ is }ba{sed on }the{ }principle{ }t{hat }hu{man }intelli{gence can }be{ }defi{ned in a way }t{hat }a{ }machi{ne can }easily{ }mi{mic it }and{ }execute{ }tasks,{ }f{rom }the{ }most{ }simple{ }to{ }those{ }t{hat }are{ }e{ven }more{ }complex.{ }The{ }goals{ of }artificial{ }intelligence{ }include{ }mimicking{ }hu{man }cognitive{ }activity.{ }Researchers{ }and{ }developers{ in }the{ }field{ }are{ }making{ }surprisingly{ }ra{pid }stri{des in }mimicking{ }activities{ }such{ as }learning,{ }reasoning,{ }and{ }perception,{ }to{ }the{ }extent{ }t{hat }the{se can }be{ }concretely{ }defined.{ }Some{ }believe{ }t{hat }innovators{ }{may }soon{ }be{ }able{ }to{ }deve{lop }systems{ }t{hat }exceed{ }the{ }capacity{ of }humans{ }to{ }learn{ or }rea{son }out{ }any{ }subject.{ }{But }others{ }remain{ }skepti{cal }because{ }all{ }cognitive{ }activity{ is }la{ced }with{ }value{ }judgments{ }t{hat }are{ }subject{ }to{ }hu{man }experien{ce. }As{ }technology{ }advances,{ }previous{ }benchmarks{ }t{hat }defi{ned }artificial{ }intelligence{ }become{ }outdated.{ }{For }examp{le, }machi{nes }t{hat }calculate{ }ba{sic }functions{ or }recognize{ }text{ }through{ }opti{cal }cha{racter }recognition{ }a{re no longer }conside{red }to{ }embody{ }artificial{ }intelli{gence, }since{ }t{his }function{ is }{now }ta{ken }{for }g{ranted as an }inherent{ }compu{ter }function.{ }AI{ is }continuously{ }evolving{ }to{ }bene{fit }many{ }different{ }industries.{ }Machi{nes }are{ }wi{red }using{ }a{ }cross-disciplinary{ }approach{ }ba{sed on }mathematics,{ }compu{ter }scien{ce, }linguistics,{ }psychology,{ }and{ }mo{re. }Algorithms{ often }p{lay }a{ }very{ }important{ }part{ in }the{ }structure{ of }artificial{ }intelli{gence, }where{ }simple{ }algorithms{ }are{ }u{sed in }simple{ }applications,{ }while{ }more{ }comp{lex }o{nes }help{ }frame{ }strong{ }artificial{ }intelli{gence. }Applications{ of }Artificial{ }Intelligence{ }The{ }applications{ }{for }artificial{ }intelligence{ }are{ }endless.{ }The{ }technology{ }{can }be{ }applied{ }to{ }many{ }different{ }sectors{ }and{ }industries.{ }AI{ is }being{ }{tested }and{ }u{sed in }the{ }healthcare{ }industry{ }{for }dosing{ }drugs{ }and{ }different{ }treatment{ in }patients,{ }and{ }{for }surgi{cal }procedu{res in }the{ }operating{ }room.{ }Ot{her }examp{les of }machi{nes }with{ }artificial{ }intelligence{ }include{ }computers{ }t{hat }p{lay }chess{ }and{ }self-driving{ }cars.{ }Each{ of }these{ }machi{nes }must{ }weigh{ }the{ }consequen{ces of }any{ }action{ }t{hey }ta{ke, as }each{ }action{ }will{ }impact{ }the{ }end{ }result.{ }In{ }chess,{ }the{ }end{ }result{ is }winning{ }the{ }ga{me. }{For }self-driving{ }cars,{ }the{ }compu{ter }sys{tem }must{ }account{ }{for }all{ external }data{ }and{ }compute{ it }to{ }act{ in a way }t{hat }prevents{ }a{ }collision.{ }Artificial{ }intelligence{ also has }applications{ in }the{ }financial{ }industry,{ }where{ it is }u{sed }to{ }detect{ }and{ }f{lag }activity{ in }banking{ }and{ }finance{ }such{ as }unusual{ }de{bit }card{ }usage{ }and{ }large{ }account{ }deposits—all{ of }which{ }help{ }a{ }bank's{ }fraud{ }department.{ }Applications{ }{for }AI{ }are{ }also{ }being{ }u{sed }to{ }help{ }streamline{ }and{ }make{ }trading{ }easier.{ }T{his is }done{ }by{ }making{ }supply,{ }demand,{ }and{ }pricing{ of }securities{ }easier{ }to{ }estima{te. }Categorization{ of }Artificial{ }Intelligence{ }Artificial{ }intelli{gence can }be{ }divi{ded }into{ }two{ }different{ }categories:{ }weak{ }and{ }strong.{ }Weak{ }artificial{ }intelligence{ }embodies{ }a{ }sys{tem }de{signed }to{ }carry{ }out{ }one{ }particu{lar }job.{ }Weak{ }AI{ }systems{ }include{ }video{ }ga{mes }such{ as }the{ }chess{ }example{ }f{rom }above{ }and{ }perso{nal }assistants{ }such{ as }Amazon's{ }Alexa{ }and{ }Apple's{ }Si{ri. }You{ }ask{ }the{ }assistant{ }a{ }question,{ it }answers{ it }{for }you.{ }Strong{ }artificial{ }intelligence{ }systems{ }are{ }systems{ }t{hat }carry{ on }the{ }tasks{ }conside{red }to{ }be{ }human-li{ke. }These{ }tend{ }to{ }be{ }more{ }comp{lex }and{ }complica{ted }systems.{ }T{hey }are{ }p{rogrammed }to{ }handle{ }situations{ in }which{ }t{hey }{may }be{ }requi{red }to{ }p{roblem }solve{ }without{ }having{ a person }interve{ne. }These{ }kinds{ of }systems{ }{can }be{ }found{ in }applications{ }like{ }self-driving{ }cars{ or in }hospi{tal }operating{ }rooms.\n"
     ]
    }
   ],
   "source": [
    "nltk.re_show(\"([^aeiou][aeiou][^aeiou])* \", text)"
   ]
  },
  {
   "cell_type": "code",
   "execution_count": 13,
   "id": "be184368",
   "metadata": {},
   "outputs": [
    {
     "name": "stdout",
     "output_type": "stream",
     "text": [
      "The expression, (\\w+|[^\\w\\s]+  denotes:\n",
      "All the matches for pattern: one or more letters followed by one or more (non- letter character or a space character)\n"
     ]
    }
   ],
   "source": [
    "print(\"The expression, (\\w+|[^\\w\\s]+  denotes:\")\n",
    "print(\"All the matches for pattern: one or more letters followed by one or more (non- letter character or a space character)\")"
   ]
  },
  {
   "cell_type": "code",
   "execution_count": 14,
   "id": "da0080fd",
   "metadata": {},
   "outputs": [
    {
     "name": "stdout",
     "output_type": "stream",
     "text": [
      "{Artificial} {Intelligence} {(}{AI}{)} {By} {JAKE} {FRANKENFIELD} {Updated} {March} {08}{,} {2021} {Reviewed} {by} {GORDON} {SCOTT} {What} {Is} {Artificial} {Intelligence} {(}{AI}{)?} {Artificial} {intelligence} {(}{AI}{)} {refers} {to} {the} {simulation} {of} {human} {intelligence} {in} {machines} {that} {are} {programmed} {to} {think} {like} {humans} {and} {mimic} {their} {actions}{.} {The} {term} {may} {also} {be} {applied} {to} {any} {machine} {that} {exhibits} {traits} {associated} {with} {a} {human} {mind} {such} {as} {learning} {and} {problem}{-}{solving}{.} {The} {ideal} {characteristic} {of} {artificial} {intelligence} {is} {its} {ability} {to} {rationalize} {and} {take} {actions} {that} {have} {the} {best} {chance} {of} {achieving} {a} {specific} {goal}{.} {A} {subset} {of} {artificial} {intelligence} {is} {machine} {learning}{,} {which} {refers} {to} {the} {concept} {that} {computer} {programs} {can} {automatically} {learn} {from} {and} {adapt} {to} {new} {data} {without} {being} {assisted} {by} {humans}{.} {Deep} {learning} {techniques} {enable} {this} {automatic} {learning} {through} {the} {absorption} {of} {huge} {amounts} {of} {unstructured} {data} {such} {as} {text}{,} {images}{,} {or} {video}{.} {KEY} {TAKEAWAYS} {Artificial} {intelligence} {refers} {to} {the} {simulation} {of} {human} {intelligence} {in} {machines}{.} {The} {goals} {of} {artificial} {intelligence} {include} {learning}{,} {reasoning}{,} {and} {perception}{.} {AI} {is} {being} {used} {across} {different} {industries} {including} {finance} {and} {healthcare}{.} {Weak} {AI} {tends} {to} {be} {simple} {and} {single}{-}{task} {oriented}{,} {while} {strong} {AI} {carries} {on} {tasks} {that} {are} {more} {complex} {and} {human}{-}{like}{.} {What} {if} {you} {had} {started} {investing} {years} {ago}{?} {Find} {out} {what} {a} {hypothetical} {investment} {would} {be} {worth} {today}{.} {SELECT} {A} {STOCK} {TSLA} {TESLA} {INC} {AAPL} {APPLE} {INC} {NKE} {NIKE} {INC} {AMZN} {AMAZON}{.}{COM}{,} {INC} {WMT} {WALMART} {INC} {SELECT} {INVESTMENT} {AMOUNT} {$} {1}{,}{000} {SELECT} {A} {PURCHASE} {DATE} {5} {years} {ago} {CALCULATE} {Understanding} {Artificial} {Intelligence} {(}{AI}{)} {When} {most} {people} {hear} {the} {term} {artificial} {intelligence}{,} {the} {first} {thing} {they} {usually} {think} {of} {is} {robots}{.} {That}{'}{s} {because} {big}{-}{budget} {films} {and} {novels} {weave} {stories} {about} {human}{-}{like} {machines} {that} {wreak} {havoc} {on} {Earth}{.} {But} {nothing} {could} {be} {further} {from} {the} {truth}{.} {Artificial} {intelligence} {is} {based} {on} {the} {principle} {that} {human} {intelligence} {can} {be} {defined} {in} {a} {way} {that} {a} {machine} {can} {easily} {mimic} {it} {and} {execute} {tasks}{,} {from} {the} {most} {simple} {to} {those} {that} {are} {even} {more} {complex}{.} {The} {goals} {of} {artificial} {intelligence} {include} {mimicking} {human} {cognitive} {activity}{.} {Researchers} {and} {developers} {in} {the} {field} {are} {making} {surprisingly} {rapid} {strides} {in} {mimicking} {activities} {such} {as} {learning}{,} {reasoning}{,} {and} {perception}{,} {to} {the} {extent} {that} {these} {can} {be} {concretely} {defined}{.} {Some} {believe} {that} {innovators} {may} {soon} {be} {able} {to} {develop} {systems} {that} {exceed} {the} {capacity} {of} {humans} {to} {learn} {or} {reason} {out} {any} {subject}{.} {But} {others} {remain} {skeptical} {because} {all} {cognitive} {activity} {is} {laced} {with} {value} {judgments} {that} {are} {subject} {to} {human} {experience}{.} {As} {technology} {advances}{,} {previous} {benchmarks} {that} {defined} {artificial} {intelligence} {become} {outdated}{.} {For} {example}{,} {machines} {that} {calculate} {basic} {functions} {or} {recognize} {text} {through} {optical} {character} {recognition} {are} {no} {longer} {considered} {to} {embody} {artificial} {intelligence}{,} {since} {this} {function} {is} {now} {taken} {for} {granted} {as} {an} {inherent} {computer} {function}{.} {AI} {is} {continuously} {evolving} {to} {benefit} {many} {different} {industries}{.} {Machines} {are} {wired} {using} {a} {cross}{-}{disciplinary} {approach} {based} {on} {mathematics}{,} {computer} {science}{,} {linguistics}{,} {psychology}{,} {and} {more}{.} {Algorithms} {often} {play} {a} {very} {important} {part} {in} {the} {structure} {of} {artificial} {intelligence}{,} {where} {simple} {algorithms} {are} {used} {in} {simple} {applications}{,} {while} {more} {complex} {ones} {help} {frame} {strong} {artificial} {intelligence}{.} {Applications} {of} {Artificial} {Intelligence} {The} {applications} {for} {artificial} {intelligence} {are} {endless}{.} {The} {technology} {can} {be} {applied} {to} {many} {different} {sectors} {and} {industries}{.} {AI} {is} {being} {tested} {and} {used} {in} {the} {healthcare} {industry} {for} {dosing} {drugs} {and} {different} {treatment} {in} {patients}{,} {and} {for} {surgical} {procedures} {in} {the} {operating} {room}{.} {Other} {examples} {of} {machines} {with} {artificial} {intelligence} {include} {computers} {that} {play} {chess} {and} {self}{-}{driving} {cars}{.} {Each} {of} {these} {machines} {must} {weigh} {the} {consequences} {of} {any} {action} {they} {take}{,} {as} {each} {action} {will} {impact} {the} {end} {result}{.} {In} {chess}{,} {the} {end} {result} {is} {winning} {the} {game}{.} {For} {self}{-}{driving} {cars}{,} {the} {computer} {system} {must} {account} {for} {all} {external} {data} {and} {compute} {it} {to} {act} {in} {a} {way} {that} {prevents} {a} {collision}{.} {Artificial} {intelligence} {also} {has} {applications} {in} {the} {financial} {industry}{,} {where} {it} {is} {used} {to} {detect} {and} {flag} {activity} {in} {banking} {and} {finance} {such} {as} {unusual} {debit} {card} {usage} {and} {large} {account} {deposits}{—}{all} {of} {which} {help} {a} {bank}{'}{s} {fraud} {department}{.} {Applications} {for} {AI} {are} {also} {being} {used} {to} {help} {streamline} {and} {make} {trading} {easier}{.} {This} {is} {done} {by} {making} {supply}{,} {demand}{,} {and} {pricing} {of} {securities} {easier} {to} {estimate}{.} {Categorization} {of} {Artificial} {Intelligence} {Artificial} {intelligence} {can} {be} {divided} {into} {two} {different} {categories}{:} {weak} {and} {strong}{.} {Weak} {artificial} {intelligence} {embodies} {a} {system} {designed} {to} {carry} {out} {one} {particular} {job}{.} {Weak} {AI} {systems} {include} {video} {games} {such} {as} {the} {chess} {example} {from} {above} {and} {personal} {assistants} {such} {as} {Amazon}{'}{s} {Alexa} {and} {Apple}{'}{s} {Siri}{.} {You} {ask} {the} {assistant} {a} {question}{,} {it} {answers} {it} {for} {you}{.} {Strong} {artificial} {intelligence} {systems} {are} {systems} {that} {carry} {on} {the} {tasks} {considered} {to} {be} {human}{-}{like}{.} {These} {tend} {to} {be} {more} {complex} {and} {complicated} {systems}{.} {They} {are} {programmed} {to} {handle} {situations} {in} {which} {they} {may} {be} {required} {to} {problem} {solve} {without} {having} {a} {person} {intervene}{.} {These} {kinds} {of} {systems} {can} {be} {found} {in} {applications} {like} {self}{-}{driving} {cars} {or} {in} {hospital} {operating} {rooms}{.}\n"
     ]
    }
   ],
   "source": [
    "nltk.re_show(\"\\w+|[^\\w\\s]+\", text)"
   ]
  },
  {
   "cell_type": "code",
   "execution_count": null,
   "id": "5bbd0dd1",
   "metadata": {},
   "outputs": [],
   "source": []
  }
 ],
 "metadata": {
  "kernelspec": {
   "display_name": "Python 3 (ipykernel)",
   "language": "python",
   "name": "python3"
  },
  "language_info": {
   "codemirror_mode": {
    "name": "ipython",
    "version": 3
   },
   "file_extension": ".py",
   "mimetype": "text/x-python",
   "name": "python",
   "nbconvert_exporter": "python",
   "pygments_lexer": "ipython3",
   "version": "3.9.12"
  }
 },
 "nbformat": 4,
 "nbformat_minor": 5
}
