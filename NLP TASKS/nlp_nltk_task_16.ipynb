{
 "cells": [
  {
   "cell_type": "markdown",
   "id": "f4dd2661",
   "metadata": {},
   "source": [
    "16. We saw how we can generate an IndexError by indexing beyond the end of a string. Is it possible to construct an index that goes too far to the left, before the start of the string?\n"
   ]
  },
  {
   "cell_type": "code",
   "execution_count": 1,
   "id": "e5ea7bf9",
   "metadata": {},
   "outputs": [],
   "source": [
    "#To check if it is possible to construct an index that goes too far to the left, before the start of the string, assume a string\n",
    "s=\"Fusemachines\""
   ]
  },
  {
   "cell_type": "markdown",
   "id": "daf2faa8",
   "metadata": {},
   "source": [
    "It is a well-known fact that the indexing can be done in 2 ways for lists in Python. One from left to right in non-negative indexing style. And, one from right to left in negative indexing style."
   ]
  },
  {
   "cell_type": "code",
   "execution_count": 8,
   "id": "4ed3f991",
   "metadata": {},
   "outputs": [
    {
     "data": {
      "text/plain": [
       "'s'"
      ]
     },
     "execution_count": 8,
     "metadata": {},
     "output_type": "execute_result"
    }
   ],
   "source": [
    "#Example of positive indexing\n",
    "s[2]"
   ]
  },
  {
   "cell_type": "code",
   "execution_count": 9,
   "id": "3a54a28d",
   "metadata": {},
   "outputs": [
    {
     "data": {
      "text/plain": [
       "'e'"
      ]
     },
     "execution_count": 9,
     "metadata": {},
     "output_type": "execute_result"
    }
   ],
   "source": [
    "#Example of negative indexing\n",
    "s[-2]"
   ]
  },
  {
   "cell_type": "code",
   "execution_count": 12,
   "id": "ed6078fc",
   "metadata": {},
   "outputs": [
    {
     "name": "stdout",
     "output_type": "stream",
     "text": [
      "Length of string is:12\n",
      "The first element of the string feteched using negative indexing is: F\n"
     ]
    }
   ],
   "source": [
    "print(\"Length of string is:\"+str(len(s)))\n",
    "print(\"The first element of the string feteched using negative indexing is: \"+ s[-len(s)])"
   ]
  },
  {
   "cell_type": "code",
   "execution_count": 13,
   "id": "84ef30e6",
   "metadata": {},
   "outputs": [
    {
     "ename": "IndexError",
     "evalue": "string index out of range",
     "output_type": "error",
     "traceback": [
      "\u001b[1;31m---------------------------------------------------------------------------\u001b[0m",
      "\u001b[1;31mIndexError\u001b[0m                                Traceback (most recent call last)",
      "Input \u001b[1;32mIn [13]\u001b[0m, in \u001b[0;36m<cell line: 1>\u001b[1;34m()\u001b[0m\n\u001b[1;32m----> 1\u001b[0m \u001b[38;5;28mprint\u001b[39m(\u001b[38;5;124m\"\u001b[39m\u001b[38;5;124mAttempting to access the element of the string prior to the first element using negative indexing: \u001b[39m\u001b[38;5;124m\"\u001b[39m\u001b[38;5;241m+\u001b[39m \u001b[43ms\u001b[49m\u001b[43m[\u001b[49m\u001b[38;5;241;43m-\u001b[39;49m\u001b[43m(\u001b[49m\u001b[38;5;28;43mlen\u001b[39;49m\u001b[43m(\u001b[49m\u001b[43ms\u001b[49m\u001b[43m)\u001b[49m\u001b[38;5;241;43m+\u001b[39;49m\u001b[38;5;241;43m1\u001b[39;49m\u001b[43m)\u001b[49m\u001b[43m]\u001b[49m)\n",
      "\u001b[1;31mIndexError\u001b[0m: string index out of range"
     ]
    }
   ],
   "source": [
    "print(\"Attempting to access the element of the string prior to the first element using negative indexing: \"+ s[-(len(s)+1)])"
   ]
  },
  {
   "cell_type": "markdown",
   "id": "bb36532a",
   "metadata": {},
   "source": [
    "VERDICT: Yes, that is possible to access the index itself. But, the attempt to access the element at the position will generate an IndexError since it goes too far to the left."
   ]
  },
  {
   "cell_type": "code",
   "execution_count": null,
   "id": "48a19243",
   "metadata": {},
   "outputs": [],
   "source": []
  }
 ],
 "metadata": {
  "kernelspec": {
   "display_name": "Python 3 (ipykernel)",
   "language": "python",
   "name": "python3"
  },
  "language_info": {
   "codemirror_mode": {
    "name": "ipython",
    "version": 3
   },
   "file_extension": ".py",
   "mimetype": "text/x-python",
   "name": "python",
   "nbconvert_exporter": "python",
   "pygments_lexer": "ipython3",
   "version": "3.9.12"
  }
 },
 "nbformat": 4,
 "nbformat_minor": 5
}
