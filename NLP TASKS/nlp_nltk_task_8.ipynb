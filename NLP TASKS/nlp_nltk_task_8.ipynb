{
 "cells": [
  {
   "cell_type": "markdown",
   "id": "4aae1638",
   "metadata": {},
   "source": [
    "8. Create a object called translate which you could look up using words in both German and Spanish in order to get corresponding words in English. What problem might arise with this approach? Can you suggest a way to avoid this problem?"
   ]
  },
  {
   "cell_type": "markdown",
   "id": "b11efd03",
   "metadata": {},
   "source": [
    "Install alpha version of googletranslator for effective results."
   ]
  },
  {
   "cell_type": "code",
   "execution_count": 1,
   "id": "ac2cdba3",
   "metadata": {},
   "outputs": [
    {
     "name": "stdout",
     "output_type": "stream",
     "text": [
      "Requirement already satisfied: googletrans==3.1.0a0 in c:\\users\\lenovo\\anaconda3\\lib\\site-packages (3.1.0a0)\n",
      "Requirement already satisfied: httpx==0.13.3 in c:\\users\\lenovo\\anaconda3\\lib\\site-packages (from googletrans==3.1.0a0) (0.13.3)\n",
      "Requirement already satisfied: idna==2.* in c:\\users\\lenovo\\anaconda3\\lib\\site-packages (from httpx==0.13.3->googletrans==3.1.0a0) (2.10)\n",
      "Requirement already satisfied: rfc3986<2,>=1.3 in c:\\users\\lenovo\\anaconda3\\lib\\site-packages (from httpx==0.13.3->googletrans==3.1.0a0) (1.5.0)\n",
      "Requirement already satisfied: certifi in c:\\users\\lenovo\\anaconda3\\lib\\site-packages (from httpx==0.13.3->googletrans==3.1.0a0) (2021.10.8)\n",
      "Requirement already satisfied: hstspreload in c:\\users\\lenovo\\anaconda3\\lib\\site-packages (from httpx==0.13.3->googletrans==3.1.0a0) (2021.12.1)\n",
      "Requirement already satisfied: sniffio in c:\\users\\lenovo\\anaconda3\\lib\\site-packages (from httpx==0.13.3->googletrans==3.1.0a0) (1.2.0)\n",
      "Requirement already satisfied: chardet==3.* in c:\\users\\lenovo\\anaconda3\\lib\\site-packages (from httpx==0.13.3->googletrans==3.1.0a0) (3.0.4)\n",
      "Requirement already satisfied: httpcore==0.9.* in c:\\users\\lenovo\\anaconda3\\lib\\site-packages (from httpx==0.13.3->googletrans==3.1.0a0) (0.9.1)\n",
      "Requirement already satisfied: h11<0.10,>=0.8 in c:\\users\\lenovo\\anaconda3\\lib\\site-packages (from httpcore==0.9.*->httpx==0.13.3->googletrans==3.1.0a0) (0.9.0)\n",
      "Requirement already satisfied: h2==3.* in c:\\users\\lenovo\\anaconda3\\lib\\site-packages (from httpcore==0.9.*->httpx==0.13.3->googletrans==3.1.0a0) (3.2.0)\n",
      "Requirement already satisfied: hyperframe<6,>=5.2.0 in c:\\users\\lenovo\\anaconda3\\lib\\site-packages (from h2==3.*->httpcore==0.9.*->httpx==0.13.3->googletrans==3.1.0a0) (5.2.0)\n",
      "Requirement already satisfied: hpack<4,>=3.0 in c:\\users\\lenovo\\anaconda3\\lib\\site-packages (from h2==3.*->httpcore==0.9.*->httpx==0.13.3->googletrans==3.1.0a0) (3.0.0)\n"
     ]
    }
   ],
   "source": [
    "!pip install googletrans==3.1.0a0\n",
    "#alpha version of googletranslator"
   ]
  },
  {
   "cell_type": "code",
   "execution_count": 3,
   "id": "3cdb6284",
   "metadata": {},
   "outputs": [],
   "source": [
    "#Import the Translator module for Machine translation\n",
    "from googletrans import Translator"
   ]
  },
  {
   "cell_type": "code",
   "execution_count": 4,
   "id": "99c277ad",
   "metadata": {},
   "outputs": [],
   "source": [
    "#Creating the \"translate\" object as required\n",
    "translate= Translator()"
   ]
  },
  {
   "cell_type": "code",
   "execution_count": 8,
   "id": "3ccafbad",
   "metadata": {},
   "outputs": [],
   "source": [
    "def translate_to_english(input_text):\n",
    "    output= translate.translate(input_text,dest=\"en\")\n",
    "    return output.text"
   ]
  },
  {
   "cell_type": "code",
   "execution_count": 9,
   "id": "3ead0ad2",
   "metadata": {},
   "outputs": [
    {
     "name": "stdout",
     "output_type": "stream",
     "text": [
      "Input text in german is:  Wie geht's ?\n",
      "Output text in english is: How are you ?\n"
     ]
    }
   ],
   "source": [
    "text_in_german=\" Wie geht's ?\"\n",
    "print(\"Input text in german is: \"+text_in_german)\n",
    "print(\"Output text in english is: \"+translate_to_english(text_in_german))"
   ]
  },
  {
   "cell_type": "code",
   "execution_count": 13,
   "id": "cbd16dd5",
   "metadata": {},
   "outputs": [
    {
     "name": "stdout",
     "output_type": "stream",
     "text": [
      "Input text in spanish is:  Cómo estás ?\n",
      "Output text in english is: How are you ?\n"
     ]
    }
   ],
   "source": [
    "text_in_spanish=\" Cómo estás ?\"\n",
    "print(\"Input text in spanish is: \"+text_in_spanish)\n",
    "print(\"Output text in english is: \"+translate_to_english(text_in_german))"
   ]
  },
  {
   "cell_type": "markdown",
   "id": "184837df",
   "metadata": {},
   "source": [
    "PROBLEMS WITH THIS APPROACH: The problem with this approach of translation (Google Translate) is that the collective meaning of the words can be lost in translation because of inadequate context.Complex cases like sarcasm can't be just literally translated into some other language and interpreted; a lot of misunderstandings can arise because of that. \n",
    "\n",
    "SUGGESTION TO AVOID THE PROBLEM: To have the probability of errors significantly be reduced, there should be some guidelines to use this method: 1. In case of complex cases like sarcasm, give enough contextual information. 2. Don't use philosophically deep and complex language to state facts and information needlessly.   "
   ]
  },
  {
   "cell_type": "code",
   "execution_count": null,
   "id": "1df36a8b",
   "metadata": {},
   "outputs": [],
   "source": []
  }
 ],
 "metadata": {
  "kernelspec": {
   "display_name": "Python 3 (ipykernel)",
   "language": "python",
   "name": "python3"
  },
  "language_info": {
   "codemirror_mode": {
    "name": "ipython",
    "version": 3
   },
   "file_extension": ".py",
   "mimetype": "text/x-python",
   "name": "python",
   "nbconvert_exporter": "python",
   "pygments_lexer": "ipython3",
   "version": "3.9.12"
  }
 },
 "nbformat": 4,
 "nbformat_minor": 5
}
