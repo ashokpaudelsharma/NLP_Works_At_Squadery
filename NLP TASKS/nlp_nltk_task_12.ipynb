{
 "cells": [
  {
   "cell_type": "markdown",
   "id": "e23f2a19",
   "metadata": {},
   "source": [
    "12. Write a program to create a table of word frequencies by genre, like the one given in 1 for modals. Choose your own words and try to find words whose presence (or absence) is typical of a genre. Discuss your findings"
   ]
  },
  {
   "cell_type": "code",
   "execution_count": 1,
   "id": "238ed115",
   "metadata": {},
   "outputs": [],
   "source": [
    "import nltk"
   ]
  },
  {
   "cell_type": "code",
   "execution_count": 2,
   "id": "7365e66c",
   "metadata": {},
   "outputs": [],
   "source": [
    "from nltk.corpus import brown"
   ]
  },
  {
   "cell_type": "markdown",
   "id": "07f71f35",
   "metadata": {},
   "source": [
    "Note: Conditional frequency distributions are used to record the number of times each sample occurred, given the condition under which the experiment was run."
   ]
  },
  {
   "cell_type": "code",
   "execution_count": 3,
   "id": "a3562c59",
   "metadata": {},
   "outputs": [],
   "source": [
    "genres = brown.categories()"
   ]
  },
  {
   "cell_type": "code",
   "execution_count": 4,
   "id": "59b64640",
   "metadata": {},
   "outputs": [
    {
     "data": {
      "text/plain": [
       "['adventure',\n",
       " 'belles_lettres',\n",
       " 'editorial',\n",
       " 'fiction',\n",
       " 'government',\n",
       " 'hobbies',\n",
       " 'humor',\n",
       " 'learned',\n",
       " 'lore',\n",
       " 'mystery',\n",
       " 'news',\n",
       " 'religion',\n",
       " 'reviews',\n",
       " 'romance',\n",
       " 'science_fiction']"
      ]
     },
     "execution_count": 4,
     "metadata": {},
     "output_type": "execute_result"
    }
   ],
   "source": [
    "genres"
   ]
  },
  {
   "cell_type": "code",
   "execution_count": 17,
   "id": "f9fe6bd8",
   "metadata": {},
   "outputs": [],
   "source": [
    "my_words = ['find', 'love','hate', 'report', 'believe', 'cry', 'laugh', 'like']"
   ]
  },
  {
   "cell_type": "code",
   "execution_count": 18,
   "id": "85498df6",
   "metadata": {},
   "outputs": [],
   "source": [
    "genre_word_pair_list= [(genre, word) for genre in brown.categories() for word in brown.words(categories=genre)]\n",
    "#genre_word_pair_list"
   ]
  },
  {
   "cell_type": "code",
   "execution_count": 19,
   "id": "33c9a119",
   "metadata": {},
   "outputs": [
    {
     "name": "stdout",
     "output_type": "stream",
     "text": [
      "                   find    love    hate  report believe     cry   laugh    like \n",
      "      adventure      18       9       8       2       6       5       3     136 \n",
      " belles_lettres      73      68       4      29      39       6       1     169 \n",
      "      editorial      16      13       0      14      16       2       0      49 \n",
      "        fiction      26      16       9       6      12       9       9     147 \n",
      "     government      12       1       0      39      10       0       0      21 \n",
      "        hobbies      41       6       0       2       4       0       0      66 \n",
      "          humor      10       4       0       1       7       2       2      34 \n",
      "        learned      50      13       2      13      26       0       0      83 \n",
      "           lore      40      19       2       6      19       9       1      86 \n",
      "        mystery      29       7       2       8      13       1       3     136 \n",
      "           news      16       3       1      25      12       3       0      46 \n",
      "       religion      20      13       3       3      12       0       2      18 \n",
      "        reviews       6       7       2       1       3       0       1      36 \n",
      "        romance      34      32       9       3      14      10       6     185 \n",
      "science_fiction       4       3       0       1       6       1       0      25 \n"
     ]
    }
   ],
   "source": [
    "cfd = nltk.ConditionalFreqDist(genre_word_pair_list)\n",
    "cfd.tabulate(conditions=genres, samples=my_words)"
   ]
  },
  {
   "cell_type": "code",
   "execution_count": null,
   "id": "9c0bffc7",
   "metadata": {},
   "outputs": [],
   "source": []
  },
  {
   "cell_type": "code",
   "execution_count": null,
   "id": "087a9093",
   "metadata": {},
   "outputs": [],
   "source": []
  }
 ],
 "metadata": {
  "kernelspec": {
   "display_name": "Python 3 (ipykernel)",
   "language": "python",
   "name": "python3"
  },
  "language_info": {
   "codemirror_mode": {
    "name": "ipython",
    "version": 3
   },
   "file_extension": ".py",
   "mimetype": "text/x-python",
   "name": "python",
   "nbconvert_exporter": "python",
   "pygments_lexer": "ipython3",
   "version": "3.9.12"
  }
 },
 "nbformat": 4,
 "nbformat_minor": 5
}
