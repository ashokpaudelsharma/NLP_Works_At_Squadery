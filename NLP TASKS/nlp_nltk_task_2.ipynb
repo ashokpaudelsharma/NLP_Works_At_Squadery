{
 "cells": [
  {
   "cell_type": "markdown",
   "id": "65db9431",
   "metadata": {},
   "source": [
    "2. Define several variables containing lists of words, e.g., phrase1, phrase2, and so on. Join them together in various combinations (using the plus operator) to form whole sentences. What is the relationship between len(phrase1 + phrase2) and len(phrase1) + len(phrase2)?"
   ]
  },
  {
   "cell_type": "code",
   "execution_count": 4,
   "id": "71df7e76",
   "metadata": {},
   "outputs": [],
   "source": [
    "#Import nltk library \n",
    "import nltk "
   ]
  },
  {
   "cell_type": "code",
   "execution_count": 5,
   "id": "bdc7fabe",
   "metadata": {},
   "outputs": [],
   "source": [
    "#Defining the phrases in form of list of words as required\n",
    "phrase_1=[\"my\", \"dog\", \"is\", \"very\", \"loyal\"]\n",
    "phrase_2=[\"and\", \"very\", \"sweet\"]"
   ]
  },
  {
   "cell_type": "code",
   "execution_count": 8,
   "id": "6ff7d93b",
   "metadata": {},
   "outputs": [
    {
     "name": "stdout",
     "output_type": "stream",
     "text": [
      "The length of phrase 1 is: \n",
      "5\n",
      "The length of phrase 2 is: \n",
      "3\n"
     ]
    }
   ],
   "source": [
    "print(\"The length of phrase 1 is: \")\n",
    "print(len(phrase_1))\n",
    "print(\"The length of phrase 2 is: \")\n",
    "print(len(phrase_2))"
   ]
  },
  {
   "cell_type": "code",
   "execution_count": 9,
   "id": "e7cd7eed",
   "metadata": {},
   "outputs": [
    {
     "name": "stdout",
     "output_type": "stream",
     "text": [
      "The sum of the values of the lengths of phrases is: \n",
      "8\n"
     ]
    }
   ],
   "source": [
    "print(\"The sum of the values of the lengths of phrases is: \")\n",
    "print( len(phrase_1) + len(phrase_2))"
   ]
  },
  {
   "cell_type": "code",
   "execution_count": 10,
   "id": "b03631c1",
   "metadata": {},
   "outputs": [
    {
     "data": {
      "text/plain": [
       "['my', 'dog', 'is', 'very', 'loyal', 'and', 'very', 'sweet']"
      ]
     },
     "execution_count": 10,
     "metadata": {},
     "output_type": "execute_result"
    }
   ],
   "source": [
    "#Concatenating the phrases\n",
    "phrase_1+phrase_2"
   ]
  },
  {
   "cell_type": "code",
   "execution_count": 11,
   "id": "c017f7d2",
   "metadata": {},
   "outputs": [
    {
     "name": "stdout",
     "output_type": "stream",
     "text": [
      "The length of the concatenated phrase is: \n",
      "8\n"
     ]
    }
   ],
   "source": [
    "print(\"The length of the concatenated phrase is: \")\n",
    "print( len(phrase_1 + phrase_2))"
   ]
  },
  {
   "cell_type": "markdown",
   "id": "339181f2",
   "metadata": {},
   "source": [
    "VERDICT: Hence, the relationship between len(phrase_1 + phrase_2) and len(phrase_1) + len(phrase_2) is that they are equal. "
   ]
  },
  {
   "cell_type": "code",
   "execution_count": null,
   "id": "9eca99cf",
   "metadata": {},
   "outputs": [],
   "source": []
  }
 ],
 "metadata": {
  "kernelspec": {
   "display_name": "Python 3 (ipykernel)",
   "language": "python",
   "name": "python3"
  },
  "language_info": {
   "codemirror_mode": {
    "name": "ipython",
    "version": 3
   },
   "file_extension": ".py",
   "mimetype": "text/x-python",
   "name": "python",
   "nbconvert_exporter": "python",
   "pygments_lexer": "ipython3",
   "version": "3.9.12"
  }
 },
 "nbformat": 4,
 "nbformat_minor": 5
}
