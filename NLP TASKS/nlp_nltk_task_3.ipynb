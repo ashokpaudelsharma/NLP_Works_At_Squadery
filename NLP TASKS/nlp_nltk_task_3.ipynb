{
 "cells": [
  {
   "cell_type": "markdown",
   "id": "b603945c",
   "metadata": {},
   "source": [
    "What is the difference between the following two lines? Which one will give a larger value? Will this be the case for other texts?\n",
    "\n",
    "    A. sorted(set(w.lower() for w in text1))\n",
    "    B. sorted(w.lower() for w in set(text1))"
   ]
  },
  {
   "cell_type": "markdown",
   "id": "86627955",
   "metadata": {},
   "source": [
    "CASE 1: When, there is no repition of words in the list of words: "
   ]
  },
  {
   "cell_type": "code",
   "execution_count": 17,
   "id": "d964fda8",
   "metadata": {},
   "outputs": [],
   "source": [
    "text1= [\"The\", \"quick\", \"brown\", \"fox\", \"jumps\"]"
   ]
  },
  {
   "cell_type": "code",
   "execution_count": 18,
   "id": "6eb50161",
   "metadata": {},
   "outputs": [
    {
     "name": "stdout",
     "output_type": "stream",
     "text": [
      "['brown', 'fox', 'jumps', 'quick', 'the']\n"
     ]
    }
   ],
   "source": [
    "#Obtaining the results of option 'A' \n",
    "\n",
    "a= sorted(set([w.lower() for w in text1]))\n",
    "print(a)"
   ]
  },
  {
   "cell_type": "code",
   "execution_count": 19,
   "id": "38db835f",
   "metadata": {},
   "outputs": [
    {
     "name": "stdout",
     "output_type": "stream",
     "text": [
      "The length of the results of option 'A' for text 1:\n",
      "5\n"
     ]
    }
   ],
   "source": [
    "#Obtaining the length of the results of option 'A' for text 1\n",
    "\n",
    "print(\"The length of the results of option 'A' for text 1:\")\n",
    "print(len(a))"
   ]
  },
  {
   "cell_type": "code",
   "execution_count": 20,
   "id": "ceb53142",
   "metadata": {},
   "outputs": [
    {
     "name": "stdout",
     "output_type": "stream",
     "text": [
      "['brown', 'fox', 'jumps', 'quick', 'the']\n"
     ]
    }
   ],
   "source": [
    "#Obtaining the results of option 'B' \n",
    "\n",
    "b= sorted(w.lower() for w in set(text1))\n",
    "print(b)"
   ]
  },
  {
   "cell_type": "code",
   "execution_count": 21,
   "id": "1046ff0e",
   "metadata": {},
   "outputs": [
    {
     "name": "stdout",
     "output_type": "stream",
     "text": [
      "The length of the results of option 'B' for text 1:\n",
      "5\n"
     ]
    }
   ],
   "source": [
    "#Obtaining the length of the results of option 'B' for text 1\n",
    "\n",
    "print(\"The length of the results of option 'B' for text 1:\")\n",
    "print(len(b))"
   ]
  },
  {
   "cell_type": "markdown",
   "id": "b937bb6c",
   "metadata": {},
   "source": [
    "CASE 2: When, there is repition of words in the list of words: "
   ]
  },
  {
   "cell_type": "code",
   "execution_count": 23,
   "id": "a844b681",
   "metadata": {},
   "outputs": [],
   "source": [
    "text2= [\"The\", \"quick\", \"brown\", \"fox\", \"jumps\", \"over\", \"the\" ,\"lazy\", \"dog\"]"
   ]
  },
  {
   "cell_type": "code",
   "execution_count": 25,
   "id": "47afdeda",
   "metadata": {},
   "outputs": [
    {
     "name": "stdout",
     "output_type": "stream",
     "text": [
      "['brown', 'dog', 'fox', 'jumps', 'lazy', 'over', 'quick', 'the']\n"
     ]
    }
   ],
   "source": [
    "#Obtaining the results of option 'A' \n",
    "\n",
    "a= sorted(set([w.lower() for w in text2]))\n",
    "print(a)"
   ]
  },
  {
   "cell_type": "code",
   "execution_count": 28,
   "id": "16da7b65",
   "metadata": {},
   "outputs": [
    {
     "name": "stdout",
     "output_type": "stream",
     "text": [
      "The length of the results of option 'A' for text 2:\n",
      "8\n"
     ]
    }
   ],
   "source": [
    "#Obtaining the length of the results of option 'A' for text 2\n",
    "\n",
    "print(\"The length of the results of option 'A' for text 2:\")\n",
    "print(len(a))"
   ]
  },
  {
   "cell_type": "code",
   "execution_count": 27,
   "id": "7b3006f1",
   "metadata": {},
   "outputs": [
    {
     "name": "stdout",
     "output_type": "stream",
     "text": [
      "['brown', 'dog', 'fox', 'jumps', 'lazy', 'over', 'quick', 'the', 'the']\n"
     ]
    }
   ],
   "source": [
    "#Obtaining the results of option 'B' \n",
    "\n",
    "b= sorted(w.lower() for w in set(text2))\n",
    "print(b)"
   ]
  },
  {
   "cell_type": "code",
   "execution_count": 29,
   "id": "31c6715d",
   "metadata": {},
   "outputs": [
    {
     "name": "stdout",
     "output_type": "stream",
     "text": [
      "The length of the results of option 'B' for text 1:\n",
      "9\n"
     ]
    }
   ],
   "source": [
    "#Obtaining the length of the results of option 'B' for text 1\n",
    "\n",
    "print(\"The length of the results of option 'B' for text 1:\")\n",
    "print(len(b))"
   ]
  },
  {
   "cell_type": "markdown",
   "id": "0d85c234",
   "metadata": {},
   "source": [
    "VERDICT:\n",
    "The results of the option 'A' and option 'B' have the same size if there is no repitition of words in the input word-list.\n",
    "But,the results of the option 'A' has less size than option 'B' if there is repitition of words in the input word-list.\n",
    "And, this happens because, the set operations avoid duplication operations."
   ]
  },
  {
   "cell_type": "code",
   "execution_count": null,
   "id": "7d8e0f47",
   "metadata": {},
   "outputs": [],
   "source": []
  }
 ],
 "metadata": {
  "kernelspec": {
   "display_name": "Python 3 (ipykernel)",
   "language": "python",
   "name": "python3"
  },
  "language_info": {
   "codemirror_mode": {
    "name": "ipython",
    "version": 3
   },
   "file_extension": ".py",
   "mimetype": "text/x-python",
   "name": "python",
   "nbconvert_exporter": "python",
   "pygments_lexer": "ipython3",
   "version": "3.9.12"
  }
 },
 "nbformat": 4,
 "nbformat_minor": 5
}
