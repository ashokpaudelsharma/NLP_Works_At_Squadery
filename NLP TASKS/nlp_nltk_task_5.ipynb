{
 "cells": [
  {
   "cell_type": "markdown",
   "id": "d14d62c8",
   "metadata": {},
   "source": [
    "5. What does the following Python code do? sum(len(w) for w in text1) Can you use it to work out the average word length of a text?\n"
   ]
  },
  {
   "cell_type": "code",
   "execution_count": 1,
   "id": "41a0be2e",
   "metadata": {},
   "outputs": [],
   "source": [
    "#Defining the text to be analyzed\n",
    "text1= [\"The\", \"quick\", \"brown\", \"fox\", \"jumps\", \"over\", \"the\" ,\"lazy\", \"dog\"]"
   ]
  },
  {
   "cell_type": "code",
   "execution_count": 2,
   "id": "a7b375bb",
   "metadata": {},
   "outputs": [
    {
     "name": "stdout",
     "output_type": "stream",
     "text": [
      "['The', 'quick', 'brown', 'fox', 'jumps', 'over', 'the', 'lazy', 'dog']\n"
     ]
    }
   ],
   "source": [
    "#this operation accesses the specific words in the given list \n",
    "words= [w for w in text1]\n",
    "print(words)"
   ]
  },
  {
   "cell_type": "code",
   "execution_count": 3,
   "id": "044b51c5",
   "metadata": {},
   "outputs": [
    {
     "name": "stdout",
     "output_type": "stream",
     "text": [
      "[3, 5, 5, 3, 5, 4, 3, 4, 3]\n"
     ]
    }
   ],
   "source": [
    "#this operation accesses the lengths of the specific words in the given list \n",
    "words= [len(w) for w in text1]\n",
    "print(words)"
   ]
  },
  {
   "cell_type": "code",
   "execution_count": 4,
   "id": "24c78ff5",
   "metadata": {},
   "outputs": [
    {
     "name": "stdout",
     "output_type": "stream",
     "text": [
      "35\n"
     ]
    }
   ],
   "source": [
    "#this operation prints the sum of the lengths of the specific words in the given list \n",
    "sum_of_len_of_words= sum(len(w) for w in text1)\n",
    "print(sum_of_len_of_words)"
   ]
  },
  {
   "cell_type": "code",
   "execution_count": 5,
   "id": "758ae828",
   "metadata": {},
   "outputs": [
    {
     "name": "stdout",
     "output_type": "stream",
     "text": [
      "9\n"
     ]
    }
   ],
   "source": [
    "#this operation prints the length of the given list in terms of number of words\n",
    "num_of_words= len(text1)\n",
    "print(num_of_words)"
   ]
  },
  {
   "cell_type": "code",
   "execution_count": 6,
   "id": "092d7522",
   "metadata": {},
   "outputs": [
    {
     "name": "stdout",
     "output_type": "stream",
     "text": [
      "3.888888888888889\n"
     ]
    }
   ],
   "source": [
    "#this cell calculates and prints the average length of words in the the given list\n",
    "\n",
    "average_len= (sum_of_len_of_words)/(num_of_words)\n",
    "print(average_len)"
   ]
  },
  {
   "cell_type": "code",
   "execution_count": null,
   "id": "e6eb2d1e",
   "metadata": {},
   "outputs": [],
   "source": []
  },
  {
   "cell_type": "code",
   "execution_count": null,
   "id": "427d74cd",
   "metadata": {},
   "outputs": [],
   "source": []
  },
  {
   "cell_type": "code",
   "execution_count": null,
   "id": "27506e03",
   "metadata": {},
   "outputs": [],
   "source": []
  }
 ],
 "metadata": {
  "kernelspec": {
   "display_name": "Python 3 (ipykernel)",
   "language": "python",
   "name": "python3"
  },
  "language_info": {
   "codemirror_mode": {
    "name": "ipython",
    "version": 3
   },
   "file_extension": ".py",
   "mimetype": "text/x-python",
   "name": "python",
   "nbconvert_exporter": "python",
   "pygments_lexer": "ipython3",
   "version": "3.9.12"
  }
 },
 "nbformat": 4,
 "nbformat_minor": 5
}
