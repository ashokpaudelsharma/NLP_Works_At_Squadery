{
 "cells": [
  {
   "cell_type": "markdown",
   "id": "a6b5607a",
   "metadata": {},
   "source": [
    "7. We have been using sets to store vocabularies. Try the following Python expression: set(sent3) < set(text1). Experiment with this using different arguments to set(). What does it do? Can you think of a practical application for this?"
   ]
  },
  {
   "cell_type": "code",
   "execution_count": 15,
   "id": "81dd91de",
   "metadata": {},
   "outputs": [],
   "source": [
    "#Defining various test_sentences and the example_text\n",
    "sent1= [\"The\", \"quick\", \"red\", \"fox\"]\n",
    "sent2= [\"walks\", \"over\"] \n",
    "sent3=[\"the\" ,\"lazy\", \"dog\"]\n",
    "text1= [\"The\", \"quick\", \"brown\", \"fox\", \"jumps\", \"over\", \"the\" ,\"lazy\", \"dog\"]"
   ]
  },
  {
   "cell_type": "markdown",
   "id": "368ac655",
   "metadata": {},
   "source": [
    "Note: Here the sentences, sent1  and sent2 contain words only some of which are present in example_text, while sentence, sent3 contains words ALL of which are present in example_text"
   ]
  },
  {
   "cell_type": "code",
   "execution_count": 16,
   "id": "6709730b",
   "metadata": {},
   "outputs": [],
   "source": [
    "text1= [\"The\", \"quick\", \"brown\", \"fox\", \"jumps\", \"over\", \"the\" ,\"lazy\", \"dog\"]"
   ]
  },
  {
   "cell_type": "code",
   "execution_count": 17,
   "id": "2336ebe3",
   "metadata": {},
   "outputs": [
    {
     "data": {
      "text/plain": [
       "False"
      ]
     },
     "execution_count": 17,
     "metadata": {},
     "output_type": "execute_result"
    }
   ],
   "source": [
    " set(sent1) < set(text1)"
   ]
  },
  {
   "cell_type": "code",
   "execution_count": 18,
   "id": "35b6a5a8",
   "metadata": {},
   "outputs": [
    {
     "data": {
      "text/plain": [
       "False"
      ]
     },
     "execution_count": 18,
     "metadata": {},
     "output_type": "execute_result"
    }
   ],
   "source": [
    " set(sent2) < set(text1)"
   ]
  },
  {
   "cell_type": "code",
   "execution_count": 19,
   "id": "1777ae09",
   "metadata": {},
   "outputs": [
    {
     "data": {
      "text/plain": [
       "True"
      ]
     },
     "execution_count": 19,
     "metadata": {},
     "output_type": "execute_result"
    }
   ],
   "source": [
    " set(sent3) < set(text1)"
   ]
  },
  {
   "cell_type": "markdown",
   "id": "2783dc0a",
   "metadata": {},
   "source": [
    "VERDICT: For the condition expression, set(sent3) < set(text1) to be True,ALL the constituent words in the test_sentence have to be from the example text. "
   ]
  },
  {
   "cell_type": "markdown",
   "id": "ad2de4a0",
   "metadata": {},
   "source": [
    "PRACTICAL APPLICATION: We can find out that a certain sentence, in its exactly identical form, is present in a huge corpus or not, which can take a lot more time if we apply other methods to check such facts. "
   ]
  },
  {
   "cell_type": "code",
   "execution_count": null,
   "id": "35e4fed6",
   "metadata": {},
   "outputs": [],
   "source": []
  },
  {
   "cell_type": "code",
   "execution_count": null,
   "id": "db55d55f",
   "metadata": {},
   "outputs": [],
   "source": []
  }
 ],
 "metadata": {
  "kernelspec": {
   "display_name": "Python 3 (ipykernel)",
   "language": "python",
   "name": "python3"
  },
  "language_info": {
   "codemirror_mode": {
    "name": "ipython",
    "version": 3
   },
   "file_extension": ".py",
   "mimetype": "text/x-python",
   "name": "python",
   "nbconvert_exporter": "python",
   "pygments_lexer": "ipython3",
   "version": "3.9.12"
  }
 },
 "nbformat": 4,
 "nbformat_minor": 5
}
